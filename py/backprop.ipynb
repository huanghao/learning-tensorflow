{
 "cells": [
  {
   "cell_type": "markdown",
   "metadata": {},
   "source": [
    "Back-Propogation\n",
    "---------------\n",
    "\n",
    "http://cs231n.github.io/optimization-2/\n",
    "\n",
    "https://www.tensorflow.org/api_docs/python/tf/train/Optimizer\n"
   ]
  },
  {
   "cell_type": "markdown",
   "metadata": {},
   "source": [
    "![Sigmoid back-prop example](backprop_sigmoid.png)"
   ]
  },
  {
   "cell_type": "markdown",
   "metadata": {},
   "source": [
    "* 每个节点左边的边表示输入，后边的边表示输出\n",
    "* 每条边上方绿色数字代表输入的数值，下方的红色数字代表梯度\n",
    "* 整个计算的函数用f表示，中间的任何一个节点用n表示。那么\n",
    "    * 最后一个节点的输出就是f，最后一个节点下的梯度就是df/df === 1\n",
    "    * 节点n下方的梯度就是df/dn。例如最开始的输入节点w0，df/dw0 === -0.20\n",
    "\n",
    "computing graph的每个结点在forward计算的时候已经知道了自己的输入，知道这个结点对应的计算操作，那么就能得到这个结点的局部梯度。\n",
    "\n",
    "在backward计算的过程中，通过chain rule把后一个节点过来的梯度和自己相乘，就得到这个结点的梯度。\n",
    "\n",
    "前向和后向计算在一层当中都是分布式的，从而可以利用并行提高性能。\n",
    "\n",
    "下面的代码，模拟了上图中的计算过程。先定义了这个计算图，然后计算f和f对所有变量的导数，最后打印出来。"
   ]
  },
  {
   "cell_type": "code",
   "execution_count": 1,
   "metadata": {},
   "outputs": [
    {
     "name": "stdout",
     "output_type": "stream",
     "text": [
      "f: 0.731059\n",
      "w0: 2, df/dw0: -0.196612\n",
      "w1: -3, df/dw1: -0.393224\n",
      "w2: -3, df/dw2: 0.196612\n"
     ]
    }
   ],
   "source": [
    "import tensorflow as tf\n",
    "\n",
    "x0 = tf.placeholder(tf.float32)\n",
    "x1 = tf.placeholder(tf.float32)\n",
    "w0 = tf.Variable(2., dtype=tf.float32)\n",
    "w1 = tf.Variable(-3., dtype=tf.float32)\n",
    "w2 = tf.Variable(-3., dtype=tf.float32)\n",
    "f = tf.sigmoid(w0 * x0 + w1 * x1 + w2)\n",
    "\n",
    "opt = tf.train.GradientDescentOptimizer(learning_rate=.01)\n",
    "\n",
    "sess = tf.Session()\n",
    "sess.run(tf.global_variables_initializer())\n",
    "\n",
    "grads_and_vars = opt.compute_gradients(f)\n",
    "fv, gv = sess.run([f, grads_and_vars], feed_dict={x0: -1., x1: -2.,})\n",
    "print 'f:', fv\n",
    "for i, (g, v) in enumerate(gv):\n",
    "    print 'w%d: %g, df/dw%d: %g' % (i, v, i, g)"
   ]
  },
  {
   "cell_type": "code",
   "execution_count": null,
   "metadata": {
    "collapsed": true
   },
   "outputs": [],
   "source": []
  }
 ],
 "metadata": {
  "kernelspec": {
   "display_name": "Python 2",
   "language": "python",
   "name": "python2"
  },
  "language_info": {
   "codemirror_mode": {
    "name": "ipython",
    "version": 2
   },
   "file_extension": ".py",
   "mimetype": "text/x-python",
   "name": "python",
   "nbconvert_exporter": "python",
   "pygments_lexer": "ipython2",
   "version": "2.7.11"
  }
 },
 "nbformat": 4,
 "nbformat_minor": 2
}
