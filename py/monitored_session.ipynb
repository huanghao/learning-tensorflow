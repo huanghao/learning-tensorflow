{
 "cells": [
  {
   "cell_type": "markdown",
   "metadata": {},
   "source": [
    "Monitored Session\n",
    "----------------\n",
    "\n",
    "https://www.tensorflow.org/api_guides/python/train#Distributed_execution\n",
    "\n",
    "https://www.tensorflow.org/api_guides/python/train#Training_Hooks\n",
    "\n",
    "相比简单的tf.Session对象，MonitoredSession更方便使用。\n",
    "\n",
    "它封装了checkpoint的save和restore，summary的定期保存，初始化变量，启动queue runners，还提供了很多的Hooks来监控训练的过程。另外它还实现了主从模式，适合分布式环境运行。\n",
    "\n",
    "\n",
    "# tf.train.MonitoredTrainingSession\n",
    "\n",
    "这个函数是tf.train.MonitoredSession的工厂方法。包含一系列的构造参数。先不管分布式环境相关的参数。\n",
    "\n",
    "* checkpoint_dir：指定一个目标，它会自动的进行checkpoint的保存或者恢复\n",
    "* scaffold：不明白是啥？\n",
    "* hooks: SessionRunHook列表，每个hook都会被触发\n",
    "* save_checkpoint_secs：每多少秒自动保存一次checkpoint\n",
    "* save_summaries_steps：每多少步自动保存一次summary\n",
    "* save_summaries_secs：每多少秒自动保存一次summary\n",
    "* stop_grace_period_secs：Coordinator优雅退出的秒数\n",
    "\n",
    "# tf.train.MonitoredSession\n",
    "\n",
    "这是一个包含固定动作模板的Session运行过程，分成三个方面：\n",
    "\n",
    "初始化过程：Initialization依次做以下的事情\n",
    "\n",
    "1. 调用每个hook.begin()\n",
    "1. 调用scaffold.finalize()\n",
    "1. 创建session\n",
    "1. 使用Scaffold初始化模型\n",
    "1. 如果checkpoint存在，就从checkpoint恢复模型\n",
    "1. 启动queue runners\n",
    "\n",
    "执行过程：Run，当run()被调用的时候，依次执行以下过程：\n",
    "\n",
    "1. 调用每个hook.before_run()\n",
    "1. 调用被monitored的session.run()\n",
    "1. 调用hook.after_run()\n",
    "1. 返回session.run()的结果\n",
    "1. 如果发生了AbortedError 或者 UnavailableError 两个异常，会重新创建和初始化session\n",
    "\n",
    "关闭过程：Close\n",
    "\n",
    "1. 调用hook.end()\n",
    "1. 关闭queue runners和session\n",
    "1. 忽略掉OutOfRange错误，这个代表输入队列的样本消耗完毕"
   ]
  },
  {
   "cell_type": "code",
   "execution_count": 1,
   "metadata": {},
   "outputs": [
    {
     "name": "stdout",
     "output_type": "stream",
     "text": [
      "[begin]\n",
      "[after_create_session]\tsession= <tensorflow.python.client.session.Session object at 0x1167a4790> coord= <tensorflow.python.training.coordinator.Coordinator object at 0x11677f4d0>\n",
      "[before_run]\trun_context= <tensorflow.python.training.session_run_hook.SessionRunContext object at 0x11681e8d0>\n",
      "[after_run]\trun_context= <tensorflow.python.training.session_run_hook.SessionRunContext object at 0x11681e8d0> run_values= SessionRunValues(results=10, options=, run_metadata=)\n",
      "[end]\tsession= <tensorflow.python.client.session.Session object at 0x1167a4790>\n"
     ]
    }
   ],
   "source": [
    "import tensorflow as tf\n",
    "\n",
    "class DebugHook(object):\n",
    "\n",
    "    def begin(self):\n",
    "        print '[begin]'\n",
    "        \n",
    "    def after_create_session(self, session, coord):\n",
    "        print '[after_create_session]\\tsession=', session, 'coord=', coord\n",
    "        \n",
    "    def end(self, session):\n",
    "        print '[end]\\tsession=', session\n",
    "        \n",
    "    def before_run(self, run_context):\n",
    "        print '[before_run]\\trun_context=', run_context\n",
    "        return tf.train.SessionRunArgs(next10)\n",
    "        \n",
    "    def after_run(self, run_context, run_values):\n",
    "        print '[after_run]\\trun_context=', run_context, 'run_values=', run_values\n",
    "        \n",
    "global_step_tensor = tf.train.get_or_create_global_step()\n",
    "next10 = tf.assign_add(global_step_tensor, 10)\n",
    "\n",
    "with tf.train.MonitoredTrainingSession(\n",
    "        hooks=[DebugHook()],\n",
    "        ) as sess:\n",
    "    sess.run(global_step_tensor)\n"
   ]
  },
  {
   "cell_type": "markdown",
   "metadata": {
    "collapsed": true
   },
   "source": [
    "# Run Args, Context and Values\n",
    "\n",
    "对于hook的before_run()和after_run()方法，需要先理解这三个类型的作用。\n",
    "\n",
    "* tf.train.SessionRunArgs：用来表示传递给session.run()的参数\n",
    "* tf.train.SessionRunContext：表示跟session.run()被调用的相关的上下文信息\n",
    "* tf.train.SessionRunValues：包含session.run()的返回值\n",
    "\n",
    "## tf.train.SessionRunArgs(fetches, feed_dict, options)\n",
    "\n",
    "这三个参数都对应于session.run()的参数。源码里实际上就是一个namedtuple包含参数中的几个属性。\n",
    "\n",
    "在before_run()函数里可以返回SessionRunArgs对象，表示新添加的args也需要在即将要执行的run()函数里被求值。\n",
    "\n",
    "## tf.train.SessionRunContext\n",
    "\n",
    "几个属性：\n",
    "\n",
    "* original_args：SessionRunArgs对象\n",
    "* session：session对象\n",
    "* stop_requested：是否已经被停止。调用context.request_stop()可以请求停止这个session，对应于coordinator.request_stop().\n",
    "\n",
    "## tf.train.SessionRunValues(results, options, run_metadata)\n",
    "\n",
    "也是一个namedtuple。results属性包含了run()的结果。results的shape和SessionRunArgs的fetches一样。\n",
    "\n",
    "在hook.after_run(run_context, run_values)里的run_values包含的就是before_run()里返回的args对应求值的结果。"
   ]
  },
  {
   "cell_type": "markdown",
   "metadata": {
    "collapsed": true
   },
   "source": [
    "# Training Hooks\n",
    "\n",
    "tf.train已经提供了很多基本功能的hooks，在不用定义自己的hooks的情况下可以完成大部分通用的工作。\n",
    "\n",
    "* tf.train.SessionRunHook：这个类就是个基类，定义了5个空方法，等待子类实现（begin/end/after_create_session/before_run/after_run）\n",
    "* tf.train.LoggingTensorHook：以指定的周期（时间/步数）通过logging.info输出跟定tensors的值\n",
    "* tf.train.StopAtStepHook：达到指定的步数时调用context.request_stop()\n",
    "* tf.train.CheckpointSaverHook：以指定的周期（时间/步数）保存checkpoint\n",
    "* tf.train.StepCounterHook：以指定的周期（时间/步数）更新summary，显示steps_per_sec(每秒训练的步数，表示速度)\n",
    "* tf.train.NanTensorHook：如果loss函数输出NaN了，抛出异常NaNLossDuringTrainingError或者调用context.request_stop()退出session\n",
    "* tf.train.SummarySaverHook：以指定的周期（时间/步数）保存summary. scafold是干什么用的？\n",
    "* tf.train.GlobalStepWaiterHook：这个hook的before_run函数会没.5秒查询一次global_step，知道大于某个指定的步数，before_run才会退出。这是个while循环，那么当前的线程就在before_run上一直轮询，除非别的线程能够增加global_step的值，要不然就死循环了\n",
    "* tf.train.FinalOpsHook：在最后hook.end被调用的时候执行指定的tensor ops\n",
    "* tf.train.FeedFnHook：把给定的feed_fn在before_run的时候调用并传递给feed_dict\n",
    "\n",
    "下面的代码拿一个简单的例子来试一下。\n"
   ]
  },
  {
   "cell_type": "code",
   "execution_count": 1,
   "metadata": {},
   "outputs": [
    {
     "name": "stdout",
     "output_type": "stream",
     "text": [
      "INFO:tensorflow:<tf.Variable 'global_step:0' shape=() dtype=int64_ref> = 1, Tensor(\"Mul:0\", shape=(), dtype=float32) = 0.1, Tensor(\"Pow:0\", shape=(), dtype=float32) = 0.81\n",
      "INFO:tensorflow:<tf.Variable 'global_step:0' shape=() dtype=int64_ref> = 5, Tensor(\"Mul:0\", shape=(), dtype=float32) = 0.63136, Tensor(\"Pow:0\", shape=(), dtype=float32) = 0.135895 (0.011 sec)\n",
      "INFO:tensorflow:<tf.Variable 'global_step:0' shape=() dtype=int64_ref> = 9, Tensor(\"Mul:0\", shape=(), dtype=float32) = 0.849005, Tensor(\"Pow:0\", shape=(), dtype=float32) = 0.0227995 (0.006 sec)\n",
      "finally: [0.90336323, 0.0093386658, 10]\n"
     ]
    }
   ],
   "source": [
    "import tensorflow as tf\n",
    "\n",
    "global_step_tensor = tf.train.get_or_create_global_step()\n",
    "\n",
    "x = tf.constant(1.)\n",
    "y_ = tf.constant(1.)\n",
    "\n",
    "w = tf.Variable(.1)\n",
    "y = tf.multiply(x, w)\n",
    "\n",
    "loss = tf.pow((y - y_), 2)\n",
    "train_step = tf.train.GradientDescentOptimizer(.1).minimize(loss, global_step=global_step_tensor)\n",
    "\n",
    "final_hook = tf.train.FinalOpsHook([y, loss, global_step_tensor])\n",
    "with tf.train.MonitoredTrainingSession(\n",
    "        hooks=[\n",
    "            tf.train.StopAtStepHook(last_step=10),\n",
    "            tf.train.LoggingTensorHook([global_step_tensor, y, loss], every_n_iter=4),\n",
    "            final_hook],\n",
    "        ) as sess:\n",
    "    while not sess.should_stop():\n",
    "        sess.run(train_step)\n",
    "\n",
    "print 'finally:', final_hook.final_ops_values"
   ]
  },
  {
   "cell_type": "code",
   "execution_count": null,
   "metadata": {
    "collapsed": true
   },
   "outputs": [],
   "source": []
  }
 ],
 "metadata": {
  "kernelspec": {
   "display_name": "Python 2",
   "language": "python",
   "name": "python2"
  },
  "language_info": {
   "codemirror_mode": {
    "name": "ipython",
    "version": 2
   },
   "file_extension": ".py",
   "mimetype": "text/x-python",
   "name": "python",
   "nbconvert_exporter": "python",
   "pygments_lexer": "ipython2",
   "version": "2.7.11"
  }
 },
 "nbformat": 4,
 "nbformat_minor": 2
}
