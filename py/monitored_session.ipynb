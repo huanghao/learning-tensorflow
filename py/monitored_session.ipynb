{
 "cells": [
  {
   "cell_type": "markdown",
   "metadata": {},
   "source": [
    "Monitored Session\n",
    "----------------\n",
    "\n",
    "相比简单的tf.Session对象，MonitoredSession更方便使用。\n",
    "\n",
    "它封装了checkpoint的save和restore，summary的定期保存，初始化变量，启动queue runners，还提供了很多的Hooks来监控训练的过程。另外它还实现了主从模式，适合分布式环境运行。\n",
    "\n",
    "https://www.tensorflow.org/api_docs/python/tf/train/MonitoredTrainingSession\n",
    "\n",
    "# tf.train.MonitoredTrainingSession\n",
    "\n",
    "这个函数是tf.train.MonitoredSession的工厂方法。包含一系列的构造参数。先不管分布式环境相关的参数。\n",
    "\n",
    "* checkpoint_dir：指定一个目标，它会自动的进行checkpoint的保存或者恢复\n",
    "* scaffold：不明白是啥？\n",
    "* hooks: SessionRunHook列表，每个hook都会被触发\n",
    "* save_checkpoint_secs：每多少秒自动保存一次checkpoint\n",
    "* save_summaries_steps：每多少步自动保存一次summary\n",
    "* save_summaries_secs：每多少秒自动保存一次summary\n",
    "* stop_grace_period_secs：Coordinator优雅退出的秒数\n",
    "\n",
    "# tf.train.MonitoredSession\n",
    "\n",
    "这是一个包含固定动作模板的Session运行过程，分成三个方面：\n",
    "\n",
    "初始化过程：Initialization依次做以下的事情\n",
    "\n",
    "1. 调用每个hook.begin()\n",
    "1. 调用scaffold.finalize()\n",
    "1. 创建session\n",
    "1. 使用Scaffold初始化模型\n",
    "1. 如果checkpoint存在，就从checkpoint恢复模型\n",
    "1. 启动queue runners\n",
    "\n",
    "执行过程：Run，当run()被调用的时候，依次执行以下过程：\n",
    "\n",
    "1. 调用每个hook.before_run()\n",
    "1. 调用被monitored的session.run()\n",
    "1. 调用hook.after_run()\n",
    "1. 返回session.run()的结果\n",
    "1. 如果发生了AbortedError 或者 UnavailableError 两个异常，会重新创建和初始化session\n",
    "\n",
    "关闭过程：Close\n",
    "\n",
    "1. 调用hook.end()\n",
    "1. 关闭queue runners和session\n",
    "1. 忽略掉OutOfRange错误，这个代表输入队列的样本消耗完毕"
   ]
  },
  {
   "cell_type": "code",
   "execution_count": 1,
   "metadata": {
    "collapsed": true
   },
   "outputs": [],
   "source": [
    "!rm -rf log && mkdir log"
   ]
  },
  {
   "cell_type": "code",
   "execution_count": 2,
   "metadata": {},
   "outputs": [
    {
     "name": "stdout",
     "output_type": "stream",
     "text": [
      "INFO:tensorflow:Create CheckpointSaverHook.\n"
     ]
    },
    {
     "ename": "RuntimeError",
     "evalue": "Global step should be created to use StepCounterHook.",
     "output_type": "error",
     "traceback": [
      "\u001b[0;31m---------------------------------------------------------------------------\u001b[0m",
      "\u001b[0;31mRuntimeError\u001b[0m                              Traceback (most recent call last)",
      "\u001b[0;32m<ipython-input-2-1d9075c28764>\u001b[0m in \u001b[0;36m<module>\u001b[0;34m()\u001b[0m\n\u001b[1;32m      4\u001b[0m \u001b[0;34m\u001b[0m\u001b[0m\n\u001b[1;32m      5\u001b[0m with tf.train.MonitoredTrainingSession(\n\u001b[0;32m----> 6\u001b[0;31m         \u001b[0mcheckpoint_dir\u001b[0m\u001b[0;34m=\u001b[0m\u001b[0;34m'log'\u001b[0m\u001b[0;34m,\u001b[0m\u001b[0;34m\u001b[0m\u001b[0m\n\u001b[0m\u001b[1;32m      7\u001b[0m         ) as sess:\n\u001b[1;32m      8\u001b[0m     \u001b[0msess\u001b[0m\u001b[0;34m.\u001b[0m\u001b[0mrun\u001b[0m\u001b[0;34m(\u001b[0m\u001b[0mv\u001b[0m\u001b[0;34m)\u001b[0m\u001b[0;34m\u001b[0m\u001b[0m\n",
      "\u001b[0;32m/usr/local/lib/python2.7/site-packages/tensorflow/python/training/monitored_session.pyc\u001b[0m in \u001b[0;36mMonitoredTrainingSession\u001b[0;34m(master, is_chief, checkpoint_dir, scaffold, hooks, chief_only_hooks, save_checkpoint_secs, save_summaries_steps, save_summaries_secs, config, stop_grace_period_secs)\u001b[0m\n\u001b[1;32m    331\u001b[0m     \u001b[0mall_hooks\u001b[0m\u001b[0;34m.\u001b[0m\u001b[0mextend\u001b[0m\u001b[0;34m(\u001b[0m\u001b[0mhooks\u001b[0m\u001b[0;34m)\u001b[0m\u001b[0;34m\u001b[0m\u001b[0m\n\u001b[1;32m    332\u001b[0m   return MonitoredSession(session_creator=session_creator, hooks=all_hooks,\n\u001b[0;32m--> 333\u001b[0;31m                           stop_grace_period_secs=stop_grace_period_secs)\n\u001b[0m\u001b[1;32m    334\u001b[0m \u001b[0;34m\u001b[0m\u001b[0m\n\u001b[1;32m    335\u001b[0m \u001b[0;34m\u001b[0m\u001b[0m\n",
      "\u001b[0;32m/usr/local/lib/python2.7/site-packages/tensorflow/python/training/monitored_session.pyc\u001b[0m in \u001b[0;36m__init__\u001b[0;34m(self, session_creator, hooks, stop_grace_period_secs)\u001b[0m\n\u001b[1;32m    625\u001b[0m     super(MonitoredSession, self).__init__(\n\u001b[1;32m    626\u001b[0m         \u001b[0msession_creator\u001b[0m\u001b[0;34m,\u001b[0m \u001b[0mhooks\u001b[0m\u001b[0;34m,\u001b[0m \u001b[0mshould_recover\u001b[0m\u001b[0;34m=\u001b[0m\u001b[0mTrue\u001b[0m\u001b[0;34m,\u001b[0m\u001b[0;34m\u001b[0m\u001b[0m\n\u001b[0;32m--> 627\u001b[0;31m         stop_grace_period_secs=stop_grace_period_secs)\n\u001b[0m\u001b[1;32m    628\u001b[0m \u001b[0;34m\u001b[0m\u001b[0m\n\u001b[1;32m    629\u001b[0m \u001b[0;34m\u001b[0m\u001b[0m\n",
      "\u001b[0;32m/usr/local/lib/python2.7/site-packages/tensorflow/python/training/monitored_session.pyc\u001b[0m in \u001b[0;36m__init__\u001b[0;34m(self, session_creator, hooks, should_recover, stop_grace_period_secs)\u001b[0m\n\u001b[1;32m    447\u001b[0m     \u001b[0mself\u001b[0m\u001b[0;34m.\u001b[0m\u001b[0m_hooks\u001b[0m \u001b[0;34m=\u001b[0m \u001b[0mhooks\u001b[0m \u001b[0;32mor\u001b[0m \u001b[0;34m[\u001b[0m\u001b[0;34m]\u001b[0m\u001b[0;34m\u001b[0m\u001b[0m\n\u001b[1;32m    448\u001b[0m     \u001b[0;32mfor\u001b[0m \u001b[0mh\u001b[0m \u001b[0;32min\u001b[0m \u001b[0mself\u001b[0m\u001b[0;34m.\u001b[0m\u001b[0m_hooks\u001b[0m\u001b[0;34m:\u001b[0m\u001b[0;34m\u001b[0m\u001b[0m\n\u001b[0;32m--> 449\u001b[0;31m       \u001b[0mh\u001b[0m\u001b[0;34m.\u001b[0m\u001b[0mbegin\u001b[0m\u001b[0;34m(\u001b[0m\u001b[0;34m)\u001b[0m\u001b[0;34m\u001b[0m\u001b[0m\n\u001b[0m\u001b[1;32m    450\u001b[0m     \u001b[0;31m# Create the session.\u001b[0m\u001b[0;34m\u001b[0m\u001b[0;34m\u001b[0m\u001b[0m\n\u001b[1;32m    451\u001b[0m     self._coordinated_creator = self._CoordinatedSessionCreator(\n",
      "\u001b[0;32m/usr/local/lib/python2.7/site-packages/tensorflow/python/training/basic_session_run_hooks.pyc\u001b[0m in \u001b[0;36mbegin\u001b[0;34m(self)\u001b[0m\n\u001b[1;32m    426\u001b[0m     \u001b[0;32mif\u001b[0m \u001b[0mself\u001b[0m\u001b[0;34m.\u001b[0m\u001b[0m_global_step_tensor\u001b[0m \u001b[0;32mis\u001b[0m \u001b[0mNone\u001b[0m\u001b[0;34m:\u001b[0m\u001b[0;34m\u001b[0m\u001b[0m\n\u001b[1;32m    427\u001b[0m       raise RuntimeError(\n\u001b[0;32m--> 428\u001b[0;31m           \"Global step should be created to use StepCounterHook.\")\n\u001b[0m\u001b[1;32m    429\u001b[0m     \u001b[0mself\u001b[0m\u001b[0;34m.\u001b[0m\u001b[0m_summary_tag\u001b[0m \u001b[0;34m=\u001b[0m \u001b[0mself\u001b[0m\u001b[0;34m.\u001b[0m\u001b[0m_global_step_tensor\u001b[0m\u001b[0;34m.\u001b[0m\u001b[0mop\u001b[0m\u001b[0;34m.\u001b[0m\u001b[0mname\u001b[0m \u001b[0;34m+\u001b[0m \u001b[0;34m\"/sec\"\u001b[0m\u001b[0;34m\u001b[0m\u001b[0m\n\u001b[1;32m    430\u001b[0m \u001b[0;34m\u001b[0m\u001b[0m\n",
      "\u001b[0;31mRuntimeError\u001b[0m: Global step should be created to use StepCounterHook."
     ]
    }
   ],
   "source": [
    "import tensorflow as tf\n",
    "\n",
    "v = tf.constant(1)\n",
    "\n",
    "with tf.train.MonitoredTrainingSession(\n",
    "        checkpoint_dir='log',\n",
    "        ) as sess:\n",
    "    sess.run(v)"
   ]
  },
  {
   "cell_type": "code",
   "execution_count": 10,
   "metadata": {},
   "outputs": [
    {
     "name": "stdout",
     "output_type": "stream",
     "text": [
      "total 56\r\n",
      "-rw-r--r--  1 huanghao  staff     81 May  9 21:38 checkpoint\r\n",
      "-rw-r--r--  1 huanghao  staff      4 May  9 21:38 model.ckpt-3.data-00000-of-00001\r\n",
      "-rw-r--r--  1 huanghao  staff    127 May  9 21:38 model.ckpt-3.index\r\n",
      "-rw-r--r--  1 huanghao  staff  16337 May  9 21:38 model.ckpt-3.meta\r\n"
     ]
    }
   ],
   "source": [
    "!ls -l log/"
   ]
  },
  {
   "cell_type": "code",
   "execution_count": 19,
   "metadata": {},
   "outputs": [
    {
     "name": "stdout",
     "output_type": "stream",
     "text": [
      "\n"
     ]
    }
   ],
   "source": [
    "!rm -rf log && mkdir log"
   ]
  },
  {
   "cell_type": "code",
   "execution_count": 21,
   "metadata": {},
   "outputs": [
    {
     "name": "stdout",
     "output_type": "stream",
     "text": [
      "INFO:tensorflow:Create CheckpointSaverHook.\n",
      "INFO:tensorflow:Saving checkpoints for 3 into log/model.ckpt.\n"
     ]
    }
   ],
   "source": [
    "import time\n",
    "\n",
    "global_step_tensor = tf.Variable(3, trainable=False, name='global_step')\n",
    "\n",
    "with tf.train.MonitoredTrainingSession(\n",
    "        checkpoint_dir='log',\n",
    "        hooks=[tf.train.StopAtStepHook(last_step=10)],\n",
    "        save_checkpoint_secs=2,\n",
    "        ) as sess:\n",
    "    time.sleep(1)"
   ]
  },
  {
   "cell_type": "markdown",
   "metadata": {},
   "source": [
    "# Training Hooks"
   ]
  },
  {
   "cell_type": "code",
   "execution_count": 26,
   "metadata": {},
   "outputs": [
    {
     "name": "stdout",
     "output_type": "stream",
     "text": [
      "INFO:tensorflow:Create CheckpointSaverHook.\n",
      "INFO:tensorflow:Restoring parameters from log/model.ckpt-3\n",
      "INFO:tensorflow:Saving checkpoints for 3 into log/model.ckpt.\n",
      "INFO:tensorflow:Tensor(\"v_1:0\", shape=(), dtype=int32) = 1\n",
      "INFO:tensorflow:Tensor(\"v_1:0\", shape=(), dtype=int32) = 1 (0.004 sec)\n",
      "INFO:tensorflow:Tensor(\"v_1:0\", shape=(), dtype=int32) = 1 (0.003 sec)\n",
      "INFO:tensorflow:Tensor(\"v_1:0\", shape=(), dtype=int32) = 1 (0.003 sec)\n",
      "INFO:tensorflow:Tensor(\"v_1:0\", shape=(), dtype=int32) = 1 (0.003 sec)\n",
      "INFO:tensorflow:Tensor(\"v_1:0\", shape=(), dtype=int32) = 1 (0.003 sec)\n",
      "INFO:tensorflow:Tensor(\"v_1:0\", shape=(), dtype=int32) = 1 (0.002 sec)\n",
      "INFO:tensorflow:Tensor(\"v_1:0\", shape=(), dtype=int32) = 1 (0.006 sec)\n",
      "INFO:tensorflow:Tensor(\"v_1:0\", shape=(), dtype=int32) = 1 (0.009 sec)\n",
      "INFO:tensorflow:Tensor(\"v_1:0\", shape=(), dtype=int32) = 1 (0.008 sec)\n"
     ]
    }
   ],
   "source": [
    "v = tf.constant(1, name='v')\n",
    "\n",
    "with tf.train.MonitoredTrainingSession(\n",
    "        checkpoint_dir='log',\n",
    "        hooks=[tf.train.LoggingTensorHook([v], every_n_iter=1)],\n",
    "        ) as sess:\n",
    "    for i in xrange(10):\n",
    "        sess.run(v)"
   ]
  },
  {
   "cell_type": "code",
   "execution_count": null,
   "metadata": {
    "collapsed": true
   },
   "outputs": [],
   "source": []
  }
 ],
 "metadata": {
  "kernelspec": {
   "display_name": "Python 2",
   "language": "python",
   "name": "python2"
  },
  "language_info": {
   "codemirror_mode": {
    "name": "ipython",
    "version": 2
   },
   "file_extension": ".py",
   "mimetype": "text/x-python",
   "name": "python",
   "nbconvert_exporter": "python",
   "pygments_lexer": "ipython2",
   "version": "2.7.11"
  }
 },
 "nbformat": 4,
 "nbformat_minor": 2
}
