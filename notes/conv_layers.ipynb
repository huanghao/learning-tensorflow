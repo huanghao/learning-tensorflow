{
 "cells": [
  {
   "cell_type": "markdown",
   "metadata": {},
   "source": [
    "## CONV\n",
    "\n",
    "https://www.tensorflow.org/api_docs/python/tf/nn/conv2d\n",
    "\n",
    "https://www.tensorflow.org/api_docs/python/tf/nn/bias_add\n",
    "\n",
    "https://www.tensorflow.org/api_guides/python/nn#Convolution"
   ]
  },
  {
   "cell_type": "markdown",
   "metadata": {},
   "source": [
    "## tf.nn.conv2d(input, filter, strides, padding)\n",
    "\n",
    "这个函数对输入的4D`input`使用4D`filter`做2D卷积计算，步长由`strides`指定，填充方式由`padding`指定。输出一个4D的tensor表示结果。\n",
    "\n",
    "* input: [batch, in_height, in_width, in_channels] 这个好理解，例如一个batch的图片。\n",
    "\n",
    "* filter: [filter_height, filter_width, in_channels, out_channels] filter就是kernel。这里指定了kernel的高和宽，in_channels也就是必须和input的in_channels一样，也就是卷积核的深度。out_channels是卷积核的个数。\n",
    "\n",
    "* strides: [1, stride, stride, 1] 也是4D的，格式由`data format`决定，默认也是NHWC。但是N和C必须等于1。中间两个就是高和宽的步长。\n",
    "\n",
    "* padding: `SAME` 或者 `VALID`\n",
    "\n",
    "* data format: NHWC or NCHW。默认是NHWC（Num_samples x Height x Width x Channels）\n",
    "\n",
    "做卷积运算，卷积核的深度必须和输入的深度一致。从高和宽两个维度上，用卷积核覆盖输入，然后做卷积运算（包含所有的深度，最后求和）产生一个输出值。然后以stride为步长滑动再重复做卷积操作。"
   ]
  },
  {
   "cell_type": "markdown",
   "metadata": {},
   "source": [
    "## Padding\n",
    "\n",
    "填充一些值（比如0）在输入的空间边界（高和宽）外，从而在做卷积操作的时候，卷积核与输入的空间能够匹配。\n",
    "\n",
    "常见的SAME操作，会在边界上填充，以保持输入和输出的空间大小不变。\n",
    "\n",
    "### SAME\n",
    "\n",
    "输出的大小由以下公式决定。原始大小除以步长以后向上取整。步长为1的时候，保持了空间的大小。步长为2，相当于长宽都变成一半，面积到1/4。\n",
    "\n",
    "    out_height = ceil(float(in_height) / float(strides[1]))\n",
    "    out_width  = ceil(float(in_width) / float(strides[2]))\n",
    "\n",
    "填充的数量由这个公式决定。填充会分到四边，top/left在不整除的情况下会比bottom/right少1.\n",
    "\n",
    "    pad_along_height = max((out_height - 1) * strides[1] +\n",
    "                        filter_height - in_height, 0)\n",
    "    pad_along_width = max((out_width - 1) * strides[2] +\n",
    "                       filter_width - in_width, 0)\n",
    "    pad_top = pad_along_height // 2\n",
    "    pad_bottom = pad_along_height - pad_top\n",
    "    pad_left = pad_along_width // 2\n",
    "    pad_right = pad_along_width - pad_left\n",
    "    \n",
    "### Valid\n",
    "\n",
    "输出大小的公式。步长为1时，相当于不填充（公式里减去了一个filter的大小）。步长不为1的时候，有可能不能整除，向上取整以后，就需要填充。填充值为0（相当于图片外面都是0）。\n",
    "\n",
    "    out_height = ceil(float(in_height - filter_height + 1) / float(strides[1]))\n",
    "    out_width  = ceil(float(in_width - filter_width + 1) / float(strides[2]))\n",
    "    \n",
    "例如输入为7x7,filter为3x3，步长为2。那么out = ceil((7-3+1) / 2) = 3。这种情况下就需要每边都填充1，下面那个cs231n的例子就是这种情况。"
   ]
  },
  {
   "cell_type": "markdown",
   "metadata": {},
   "source": [
    "## tf.nn.bias_add(value, bias)\n",
    "\n",
    "\n",
    "把bias加到value上。bias是1D tensor，大小要和value的最后一维相同。value可以是任何维度，bias的值会被broadcast到最后一维的所有点上。"
   ]
  },
  {
   "cell_type": "code",
   "execution_count": 1,
   "metadata": {},
   "outputs": [
    {
     "name": "stderr",
     "output_type": "stream",
     "text": [
      "/usr/local/anaconda3/lib/python3.6/site-packages/h5py/__init__.py:36: FutureWarning: Conversion of the second argument of issubdtype from `float` to `np.floating` is deprecated. In future, it will be treated as `np.float64 == np.dtype(float).type`.\n",
      "  from ._conv import register_converters as _register_converters\n"
     ]
    },
    {
     "name": "stdout",
     "output_type": "stream",
     "text": [
      "[[[0 0]\n",
      "  [0 0]]\n",
      "\n",
      " [[0 0]\n",
      "  [0 0]]]\n",
      "+\n",
      "[1 2]\n",
      "=\n",
      "[[[1 2]\n",
      "  [1 2]]\n",
      "\n",
      " [[1 2]\n",
      "  [1 2]]]\n"
     ]
    }
   ],
   "source": [
    "from __future__ import print_function\n",
    "import tensorflow as tf\n",
    "import numpy as np\n",
    "\n",
    "tf.InteractiveSession()\n",
    "\n",
    "v = tf.constant(0, shape=[2, 2, 2])\n",
    "b = tf.constant([1, 2])\n",
    "\n",
    "o = tf.nn.bias_add(v, b)\n",
    "\n",
    "print(v.eval())\n",
    "print('+')\n",
    "print(b.eval())\n",
    "print('=')\n",
    "print(o.eval())"
   ]
  },
  {
   "cell_type": "markdown",
   "metadata": {},
   "source": [
    "## 数字实例\n",
    "\n",
    "下面这个图来源于：http://cs231n.github.io/convolutional-networks/\n",
    "\n",
    "![卷积操作实例](conv2d_example.png)\n",
    "\n",
    "这是一个计算卷积操作的实例，下面用代码计算这个过程。输入是5x5，步长2，padding1。"
   ]
  },
  {
   "cell_type": "code",
   "execution_count": 2,
   "metadata": {},
   "outputs": [
    {
     "name": "stdout",
     "output_type": "stream",
     "text": [
      "(1, 3, 3, 2)\n",
      "o[:,:,0]\n",
      "[[-3. -1.  1.]\n",
      " [-2. -4. -6.]\n",
      " [-3. -8. -8.]]\n",
      "\n",
      "o[:,:,1]\n",
      "[[ 9. 10. -3.]\n",
      " [-2. -2.  4.]\n",
      " [ 1.  5.  6.]]\n",
      "\n",
      "relu\n",
      "[[0. 0. 1.]\n",
      " [0. 0. 0.]\n",
      " [0. 0. 0.]]\n",
      "\n",
      "[[ 9. 10.  0.]\n",
      " [ 0.  0.  4.]\n",
      " [ 1.  5.  6.]]\n"
     ]
    }
   ],
   "source": [
    "x0 = [\n",
    "    [2, 1, 2, 0, 0],\n",
    "    [0, 2, 0, 2, 1],\n",
    "    [1, 1, 2, 1, 2],\n",
    "    [0, 1, 0, 0, 2],\n",
    "    [1, 0, 1, 2, 2],\n",
    "]\n",
    "x1 = [\n",
    "    [0, 0, 2, 2, 1],\n",
    "    [0, 2, 1, 2, 2],\n",
    "    [1, 1, 1, 1, 2],\n",
    "    [2, 0, 2, 0, 0],\n",
    "    [0, 0, 0, 0, 2],\n",
    "]\n",
    "x2 = [\n",
    "    [1, 2, 2, 2, 0],\n",
    "    [1, 1, 1, 1, 1],\n",
    "    [2, 2, 1, 2, 1],\n",
    "    [1, 0, 2, 0, 1],\n",
    "    [1, 1, 1, 2, 0],\n",
    "]\n",
    "x = np.zeros((1, 5, 5, 3), dtype=np.float32)\n",
    "x[:, :, :, 0] = x0\n",
    "x[:, :, :, 1] = x1\n",
    "x[:, :, :, 2] = x2\n",
    "\n",
    "w00 = [\n",
    "    [0,  -1, 0],\n",
    "    [-1, -1, -1],\n",
    "    [1,  -1, 0],\n",
    "]\n",
    "w01 = [\n",
    "    [1, -1, 0],\n",
    "    [0,  0, 0],\n",
    "    [0,  0, 0],\n",
    "]\n",
    "w02 = [\n",
    "    [1, -1,  0],\n",
    "    [-1, 1, -1],\n",
    "    [1,  0, 0],\n",
    "]\n",
    "W0 = np.zeros((3, 3, 3))\n",
    "W0[:, :, 0] = w00\n",
    "W0[:, :, 1] = w01\n",
    "W0[:, :, 2] = w02\n",
    "\n",
    "w10 = [\n",
    "    [1,  1, -1],\n",
    "    [1,  1,  0],\n",
    "    [-1, 1,  1],\n",
    "]\n",
    "w11 = [\n",
    "    [-1,  0, -1],\n",
    "    [-1, -1,  1],\n",
    "    [0,  -1,  1],\n",
    "]\n",
    "w12 = [\n",
    "    [-1, 0, 0],\n",
    "    [1,  0, 1],\n",
    "    [1,  0, 1],\n",
    "]\n",
    "W1 = np.zeros((3, 3, 3))\n",
    "W1[:, :, 0] = w10\n",
    "W1[:, :, 1] = w11\n",
    "W1[:, :, 2] = w12\n",
    "\n",
    "W = np.zeros((3, 3, 3, 2), dtype=np.float32)\n",
    "W[:, :, :, 0] = W0\n",
    "W[:, :, :, 1] = W1\n",
    "\n",
    "b = tf.constant([1, 0], dtype=np.float32)\n",
    "\n",
    "conv = tf.nn.conv2d(x, W, strides=[1, 2, 2, 1], padding='SAME')\n",
    "activation = tf.nn.bias_add(conv, b)\n",
    "output = tf.nn.relu(activation)\n",
    "\n",
    "print(activation.shape)\n",
    "print('o[:,:,0]')\n",
    "print(activation[0, :, :, 0].eval())\n",
    "print()\n",
    "print('o[:,:,1]')\n",
    "print(activation[0, :, :, 1].eval())\n",
    "\n",
    "print()\n",
    "print('relu')\n",
    "print(output[0, :, :, 0].eval())\n",
    "print()\n",
    "print(output[0, :, :, 1].eval())"
   ]
  },
  {
   "cell_type": "markdown",
   "metadata": {},
   "source": [
    "## 图片实例\n",
    "\n",
    "图片和kernel都来自于wiki：https://en.wikipedia.org/wiki/Kernel_(image_processing)\n",
    "\n",
    "\n",
    "![原图](Vd-Orig.png)\n",
    "\n",
    "\\begin{bmatrix}\n",
    "-1 &  -1 & -1 \\\\\n",
    "-1 & \\ \\ 8 & -1 \\\\\n",
    "-1 &  -1 & -1\n",
    "\\end{bmatrix}\n"
   ]
  },
  {
   "cell_type": "code",
   "execution_count": 3,
   "metadata": {},
   "outputs": [
    {
     "name": "stdout",
     "output_type": "stream",
     "text": [
      "(100, 100)\n"
     ]
    },
    {
     "name": "stderr",
     "output_type": "stream",
     "text": [
      "/usr/local/anaconda3/lib/python3.6/site-packages/ipykernel_launcher.py:5: DeprecationWarning: `imread` is deprecated!\n",
      "`imread` is deprecated in SciPy 1.0.0, and will be removed in 1.2.0.\n",
      "Use ``imageio.imread`` instead.\n",
      "  \"\"\"\n"
     ]
    },
    {
     "data": {
      "text/plain": [
       "<matplotlib.image.AxesImage at 0x18223534a8>"
      ]
     },
     "execution_count": 3,
     "metadata": {},
     "output_type": "execute_result"
    },
    {
     "data": {
      "image/png": "[encoded data removed]",
      "text/plain": [
       "<matplotlib.figure.Figure at 0x18214a6f28>"
      ]
     },
     "metadata": {},
     "output_type": "display_data"
    }
   ],
   "source": [
    "from scipy import misc\n",
    "from matplotlib import pyplot as plt\n",
    "%matplotlib inline\n",
    "\n",
    "im = misc.imread('Vd-Orig.png', mode='L')\n",
    "print(im.shape)\n",
    "plt.imshow(im, cmap='gray')"
   ]
  },
  {
   "cell_type": "code",
   "execution_count": 4,
   "metadata": {},
   "outputs": [
    {
     "data": {
      "text/plain": [
       "<matplotlib.image.AxesImage at 0x1822446898>"
      ]
     },
     "execution_count": 4,
     "metadata": {},
     "output_type": "execute_result"
    },
    {
     "data": {
      "image/png": "[encoded data removed]",
      "text/plain": [
       "<matplotlib.figure.Figure at 0x18223207b8>"
      ]
     },
     "metadata": {},
     "output_type": "display_data"
    }
   ],
   "source": [
    "threshold = 127\n",
    "im[im > threshold] = 255\n",
    "im[im <= threshold] = 0\n",
    "plt.imshow(im, cmap='gray')"
   ]
  },
  {
   "cell_type": "code",
   "execution_count": 5,
   "metadata": {},
   "outputs": [
    {
     "name": "stdout",
     "output_type": "stream",
     "text": [
      "Tensor(\"Cast:0\", shape=(1, 100, 100, 1), dtype=float32)\n",
      "Tensor(\"ExpandDims_3:0\", shape=(3, 3, 1, 1), dtype=float32)\n",
      "Tensor(\"Conv2D_1:0\", shape=(1, 100, 100, 1), dtype=float32)\n",
      "Tensor(\"Cast_1:0\", shape=(100, 100), dtype=uint8)\n"
     ]
    },
    {
     "data": {
      "text/plain": [
       "<matplotlib.image.AxesImage at 0x182253d7b8>"
      ]
     },
     "execution_count": 5,
     "metadata": {},
     "output_type": "execute_result"
    },
    {
     "data": {
      "image/png": "[encoded data removed]",
      "text/plain": [
       "<matplotlib.figure.Figure at 0x182246aeb8>"
      ]
     },
     "metadata": {},
     "output_type": "display_data"
    }
   ],
   "source": [
    "input = tf.expand_dims(im, 0)\n",
    "input = tf.expand_dims(input, 3)\n",
    "input = tf.cast(input, tf.float32)\n",
    "print(input)\n",
    "\n",
    "kernel = np.array([\n",
    "    [-1, -1, -1],\n",
    "    [-1,  8, -1],\n",
    "    [-1, -1, -1],\n",
    "], dtype=np.float32)\n",
    "filter = tf.expand_dims(kernel, 2)\n",
    "filter = tf.expand_dims(filter, 3)\n",
    "print(filter)\n",
    "\n",
    "output = tf.nn.conv2d(input, filter, strides=[1, 1, 1, 1], padding='SAME')\n",
    "print(output)\n",
    "\n",
    "edge = tf.cast(tf.squeeze(output), tf.uint8)\n",
    "print(edge)\n",
    "plt.imshow(edge.eval(), cmap='gray')"
   ]
  },
  {
   "cell_type": "markdown",
   "metadata": {},
   "source": [
    "## tf.nn.max_pool(value, ksize, strides, padding)\n",
    "\n",
    "https://www.tensorflow.org/api_docs/python/tf/nn/max_pool\n",
    "\n",
    "比如一个2x2的filter，stride=2，前一层空间信息减少75%"
   ]
  },
  {
   "cell_type": "code",
   "execution_count": 6,
   "metadata": {},
   "outputs": [
    {
     "name": "stdout",
     "output_type": "stream",
     "text": [
      "x: Tensor(\"ExpandDims_5:0\", shape=(1, 2, 2, 1), dtype=float32)\n",
      "y: Tensor(\"MaxPool:0\", shape=(1, 1, 1, 1), dtype=float32)\n",
      "[[[[4.]]]]\n"
     ]
    }
   ],
   "source": [
    "x = np.array([[1, 2], [3, 4]], dtype=np.float32)\n",
    "x = tf.expand_dims(x, 0)\n",
    "x = tf.expand_dims(x, 3)\n",
    "y = tf.nn.max_pool(x, [1, 2, 2, 1], [1, 2, 2, 1], padding='SAME')\n",
    "print('x:', x)\n",
    "print('y:', y)\n",
    "print(y.eval())"
   ]
  },
  {
   "cell_type": "code",
   "execution_count": 7,
   "metadata": {},
   "outputs": [
    {
     "name": "stdout",
     "output_type": "stream",
     "text": [
      "input: Tensor(\"ExpandDims_6:0\", shape=(1, 100, 100, 3), dtype=float32)\n",
      "output: Tensor(\"MaxPool_1:0\", shape=(1, 50, 50, 3), dtype=float32)\n"
     ]
    },
    {
     "name": "stderr",
     "output_type": "stream",
     "text": [
      "/usr/local/anaconda3/lib/python3.6/site-packages/ipykernel_launcher.py:1: DeprecationWarning: `imread` is deprecated!\n",
      "`imread` is deprecated in SciPy 1.0.0, and will be removed in 1.2.0.\n",
      "Use ``imageio.imread`` instead.\n",
      "  \"\"\"Entry point for launching an IPython kernel.\n"
     ]
    },
    {
     "data": {
      "text/plain": [
       "<matplotlib.image.AxesImage at 0x18226462e8>"
      ]
     },
     "execution_count": 7,
     "metadata": {},
     "output_type": "execute_result"
    },
    {
     "data": {
      "image/png": "[encoded data removed]",
      "text/plain": [
       "<matplotlib.figure.Figure at 0x1821416ac8>"
      ]
     },
     "metadata": {},
     "output_type": "display_data"
    }
   ],
   "source": [
    "im = misc.imread('Vd-Orig.png')\n",
    "input = tf.expand_dims(tf.cast(im, tf.float32), 0)\n",
    "output = tf.nn.max_pool(input, [1, 2, 2, 1], [1, 2, 2, 1], padding='SAME')\n",
    "\n",
    "print('input:', input)\n",
    "print('output:', output)\n",
    "im2 = tf.cast(tf.squeeze(output), tf.uint8)\n",
    "plt.imshow(im2.eval())"
   ]
  },
  {
   "cell_type": "code",
   "execution_count": null,
   "metadata": {},
   "outputs": [],
   "source": []
  }
 ],
 "metadata": {
  "kernelspec": {
   "display_name": "Python 3",
   "language": "python",
   "name": "python3"
  },
  "language_info": {
   "codemirror_mode": {
    "name": "ipython",
    "version": 3
   },
   "file_extension": ".py",
   "mimetype": "text/x-python",
   "name": "python",
   "nbconvert_exporter": "python",
   "pygments_lexer": "ipython3",
   "version": "3.6.4"
  }
 },
 "nbformat": 4,
 "nbformat_minor": 2
}
