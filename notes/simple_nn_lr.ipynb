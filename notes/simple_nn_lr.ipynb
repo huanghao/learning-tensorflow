{
 "cells": [
  {
   "cell_type": "markdown",
   "metadata": {},
   "source": [
    "# Simple nn lr"
   ]
  },
  {
   "cell_type": "code",
   "execution_count": 89,
   "metadata": {},
   "outputs": [
    {
     "name": "stdout",
     "output_type": "stream",
     "text": [
      "y Tensor(\"add_32:0\", shape=(?, 1), dtype=float32)\n",
      "loss Tensor(\"Sum_10:0\", shape=(), dtype=float32)\n"
     ]
    }
   ],
   "source": [
    "import tensorflow as tf\n",
    "import numpy as np\n",
    "\n",
    "X = tf.placeholder(tf.float32, [None, 4])\n",
    "y_ = tf.placeholder(tf.float32, [None, 1])\n",
    "\n",
    "W1 = tf.Variable(tf.truncated_normal([4, 50]))\n",
    "b1 = tf.Variable(tf.truncated_normal([50]))\n",
    "\n",
    "W2 = tf.Variable(tf.truncated_normal([50, 30]))\n",
    "b2 = tf.Variable(tf.truncated_normal([30]))\n",
    "\n",
    "W3 = tf.Variable(tf.truncated_normal([30, 1]))\n",
    "b3 = tf.Variable(tf.truncated_normal([1]))\n",
    "\n",
    "layer1 = tf.matmul(X, W1) + b1\n",
    "hidden1 = tf.nn.relu(layer1)\n",
    "layer2 = tf.matmul(hidden1, W2) + b2\n",
    "hidden2 = tf.nn.relu(layer2)\n",
    "y = tf.matmul(hidden2, W3) + b3\n",
    "\n",
    "loss = tf.reduce_sum(tf.pow(y - y_, 2))\n",
    "optimizer = tf.train.AdamOptimizer(learning_rate=.01).minimize(loss)\n",
    "\n",
    "print 'y', y\n",
    "print 'loss', loss"
   ]
  },
  {
   "cell_type": "code",
   "execution_count": 90,
   "metadata": {
    "collapsed": true
   },
   "outputs": [],
   "source": [
    "s = tf.Session()\n",
    "init = tf.global_variables_initializer()\n",
    "s.run(init)\n",
    "\n",
    "sample_size = 1000\n",
    "sample_X = np.random.random([sample_size, 4])\n",
    "sample_y = 2 * sample_X[:, 0] + 3 * sample_X[:, 1] ** 2 + 4 * sample_X[:, 2] ** 3 + 5 * np.log(sample_X[:, 3])\n",
    "sample_y.shape = (sample_size, 1)"
   ]
  },
  {
   "cell_type": "code",
   "execution_count": 92,
   "metadata": {
    "scrolled": true
   },
   "outputs": [
    {
     "name": "stdout",
     "output_type": "stream",
     "text": [
      "epoch 0 loss 0.00808108901978\n",
      "epoch 4000 loss 0.00348264360428\n",
      "epoch 8000 loss 0.00278196549416\n",
      "epoch 12000 loss 0.00247701907158\n",
      "epoch 16000 loss 0.00226858329773\n",
      "epoch 19999 loss 0.00192777824402\n"
     ]
    }
   ],
   "source": [
    "def norm_loss(l):\n",
    "    return l / sample_size\n",
    "\n",
    "for epoch in xrange(20000):\n",
    "    _, l = s.run([optimizer, loss], feed_dict={\n",
    "        X: sample_X,\n",
    "        y_: sample_y,\n",
    "    })\n",
    "    if epoch % 4000 == 0:\n",
    "        print 'epoch', epoch, 'loss', norm_loss(l)\n",
    "print 'epoch', epoch, 'loss', norm_loss(l)"
   ]
  },
  {
   "cell_type": "raw",
   "metadata": {},
   "source": [
    "试试不同的网络模型，比如一个隐藏层，两个隐藏层，调节每层中的神经元的个数，增加训练样本的数量等。\n",
    "会简单的发现，网络模型越复杂，网络的表达能力越强（loss值最终越小）。\n",
    "\n",
    "loss定义的时候，可以用 tf.reduce_mean(tf.pow(y - y_, 2)) 用的是平均值，也可以用 tf.reduce_sum(tf.pow(y - y_, 2)) / sample_size 把误差求和以后再除以样本大小。\n",
    "\n",
    "拿loss为0.001为例，差不多相当于，平均来说预测值和误差值相差0.03"
   ]
  },
  {
   "cell_type": "code",
   "execution_count": null,
   "metadata": {
    "collapsed": true
   },
   "outputs": [],
   "source": []
  }
 ],
 "metadata": {
  "kernelspec": {
   "display_name": "Python 2",
   "language": "python",
   "name": "python2"
  },
  "language_info": {
   "codemirror_mode": {
    "name": "ipython",
    "version": 2
   },
   "file_extension": ".py",
   "mimetype": "text/x-python",
   "name": "python",
   "nbconvert_exporter": "python",
   "pygments_lexer": "ipython2",
   "version": "2.7.11"
  }
 },
 "nbformat": 4,
 "nbformat_minor": 2
}
