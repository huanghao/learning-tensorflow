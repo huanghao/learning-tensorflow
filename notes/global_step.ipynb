{
 "cells": [
  {
   "cell_type": "markdown",
   "metadata": {},
   "source": [
    "Global step\n",
    "-----------\n",
    "\n",
    "https://github.com/tensorflow/tensorflow/blob/master/tensorflow/python/training/training_util.py\n",
    "\n",
    "其实就是一个计数的变量，用来记录训练的步数，而不少的函数都会依赖这个变量。\n",
    "\n",
    "这行代码就可以创建名字叫global_step的变量，并且不参与训练。它的值只能显示修改，而不会被optimizer更新。\n",
    "\n",
    "`global_step_tensor = tf.Variable(10, trainable=False, name='global_step')`\n",
    "\n",
    "以下几个相关的函数：\n",
    "\n",
    "* tf.train.get_global_step()：得到global_step_tensor对象\n",
    "* tf.train.get_or_create_global_step()\n",
    "* tf.train.create_global_step()\n",
    "* tf.train.global_step()：其实就是sess.run(global_step_tensor)\n",
    "\n",
    "这个变量一开始是没有的，create_global_step()会创建这个命名变量，并加入到GLOBAL_STEP和GLOBAL_VARIABLES这两个collection。"
   ]
  },
  {
   "cell_type": "code",
   "execution_count": 1,
   "metadata": {},
   "outputs": [
    {
     "name": "stdout",
     "output_type": "stream",
     "text": [
      "None\n",
      "'global_step'\n",
      "[]\n"
     ]
    }
   ],
   "source": [
    "import tensorflow as tf\n",
    "\n",
    "print tf.train.get_global_step()\n",
    "print repr(tf.GraphKeys.GLOBAL_STEP)\n",
    "print tf.get_collection(tf.GraphKeys.GLOBAL_STEP)"
   ]
  },
  {
   "cell_type": "code",
   "execution_count": 2,
   "metadata": {},
   "outputs": [
    {
     "name": "stdout",
     "output_type": "stream",
     "text": [
      "<tf.Variable 'global_step:0' shape=() dtype=int64_ref>\n"
     ]
    }
   ],
   "source": [
    "print tf.train.get_or_create_global_step()"
   ]
  },
  {
   "cell_type": "code",
   "execution_count": 3,
   "metadata": {
    "scrolled": false
   },
   "outputs": [
    {
     "name": "stdout",
     "output_type": "stream",
     "text": [
      "<tf.Variable 'global_step:0' shape=() dtype=int64_ref>\n",
      "[<tf.Variable 'global_step:0' shape=() dtype=int64_ref>]\n"
     ]
    }
   ],
   "source": [
    "print tf.train.get_global_step()\n",
    "print tf.get_collection(tf.GraphKeys.GLOBAL_STEP)"
   ]
  },
  {
   "cell_type": "markdown",
   "metadata": {},
   "source": [
    "# tf.assign_add(ref, value)\n",
    "\n",
    "https://www.tensorflow.org/api_docs/python/tf/assign_add\n",
    "\n",
    "就是`+=`操作，第一个参数的tensor的引用，第二个是需要加的值。"
   ]
  },
  {
   "cell_type": "code",
   "execution_count": 5,
   "metadata": {},
   "outputs": [
    {
     "data": {
      "text/plain": [
       "2"
      ]
     },
     "execution_count": 5,
     "metadata": {},
     "output_type": "execute_result"
    }
   ],
   "source": [
    "step = tf.train.get_global_step()\n",
    "incr = tf.assign_add(step, 1)\n",
    "\n",
    "sess = tf.Session()\n",
    "sess.run(tf.global_variables_initializer())\n",
    "sess.run(incr)\n",
    "sess.run(incr)\n",
    "\n",
    "sess.run(step)"
   ]
  },
  {
   "cell_type": "markdown",
   "metadata": {},
   "source": [
    "# 使用\n",
    "\n",
    "tensorflow中很多函数都会有global_step这个可选的参数。\n",
    "\n",
    "例1：tf.train.Optimizer.minimize()这个函数会返回一个train_step，实际上是计算梯度并更新模型，如果参数给定了global_step，这个函数会调用assign_add对步数加1。\n",
    "\n",
    "例2：tf.train.Saver.save()也接收一个可选的global_step参数，如果给定了步数，会生成步数对应的checkpoint文件。\n",
    "\n",
    "https://www.tensorflow.org/api_docs/python/tf/train/Saver\n",
    "\n",
    "    saver.save(sess, 'my-model', global_step=0) ==> filename: 'my-model-0'\n",
    "    ...\n",
    "    saver.save(sess, 'my-model', global_step=1000) ==> filename: 'my-model-1000'\n",
    "    \n",
    "例3：tf.train.MonitoredSession\n",
    "\n",
    "在使用这个session的时候，如果设置了checkpoint_dir，会自动添加一个tf.train.StepCounterHook。而这个hook会周期性的在一段时间或者一定的步骤更新summary。但如果创建session的时候，没有global_step这个变量，会抛出以下异常。\n",
    "\n",
    "    RuntimeError: Global step should be created to use StepCounterHook.\n",
    "    \n",
    "tf.train.CheckpointSaverHook会定期（时间或者步数）更新checkpoint。而这个global_step变量最终会传递到tf.Saver.save()方法上，在不同的步数生成不同的文件。"
   ]
  },
  {
   "cell_type": "code",
   "execution_count": null,
   "metadata": {
    "collapsed": true
   },
   "outputs": [],
   "source": []
  }
 ],
 "metadata": {
  "kernelspec": {
   "display_name": "Python 2",
   "language": "python",
   "name": "python2"
  },
  "language_info": {
   "codemirror_mode": {
    "name": "ipython",
    "version": 2
   },
   "file_extension": ".py",
   "mimetype": "text/x-python",
   "name": "python",
   "nbconvert_exporter": "python",
   "pygments_lexer": "ipython2",
   "version": "2.7.11"
  }
 },
 "nbformat": 4,
 "nbformat_minor": 2
}
