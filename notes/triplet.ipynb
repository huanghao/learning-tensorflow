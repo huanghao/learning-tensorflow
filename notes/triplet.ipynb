{
 "cells": [
  {
   "cell_type": "code",
   "execution_count": 1,
   "metadata": {},
   "outputs": [
    {
     "name": "stderr",
     "output_type": "stream",
     "text": [
      "/usr/local/anaconda3/lib/python3.6/site-packages/h5py/__init__.py:36: FutureWarning: Conversion of the second argument of issubdtype from `float` to `np.floating` is deprecated. In future, it will be treated as `np.float64 == np.dtype(float).type`.\n",
      "  from ._conv import register_converters as _register_converters\n"
     ]
    }
   ],
   "source": [
    "import numpy as np\n",
    "import tensorflow as tf\n",
    "from matplotlib import pyplot as plt\n",
    "\n",
    "tf.enable_eager_execution()\n",
    "\n",
    "%matplotlib inline\n",
    "\n",
    "# https://omoindrot.github.io/triplet-loss#a-better-implementation-with-online-triplet-mining"
   ]
  },
  {
   "cell_type": "code",
   "execution_count": 14,
   "metadata": {},
   "outputs": [],
   "source": [
    "def _pairwise_distances(embeddings, squared=False):\n",
    "    \"\"\"Compute the 2D matrix of distances between all the embeddings.\n",
    "\n",
    "    Args:\n",
    "        embeddings: tensor of shape (batch_size, embed_dim)\n",
    "        squared: Boolean. If true, output is the pairwise squared euclidean distance matrix.\n",
    "                 If false, output is the pairwise euclidean distance matrix.\n",
    "\n",
    "    Returns:\n",
    "        pairwise_distances: tensor of shape (batch_size, batch_size)\n",
    "    \"\"\"\n",
    "    # Get the dot product between all embeddings\n",
    "    # shape (batch_size, batch_size)\n",
    "    dot_product = tf.matmul(embeddings, tf.transpose(embeddings))\n",
    "\n",
    "    # Get squared L2 norm for each embedding. We can just take the diagonal of `dot_product`.\n",
    "    # This also provides more numerical stability (the diagonal of the result will be exactly 0).\n",
    "    # shape (batch_size,)\n",
    "    square_norm = tf.diag_part(dot_product)\n",
    "\n",
    "    # Compute the pairwise distance matrix as we have:\n",
    "    # ||a - b||^2 = ||a||^2  - 2 <a, b> + ||b||^2\n",
    "    # shape (batch_size, batch_size)\n",
    "    distances = tf.expand_dims(square_norm, 0) - 2.0 * dot_product + tf.expand_dims(square_norm, 1)\n",
    "\n",
    "    # Because of computation errors, some distances might be negative so we put everything >= 0.0\n",
    "    distances = tf.maximum(distances, 0.0)\n",
    "\n",
    "    if not squared:\n",
    "        # Because the gradient of sqrt is infinite when distances == 0.0 (ex: on the diagonal)\n",
    "        # we need to add a small epsilon where distances == 0.0\n",
    "        mask = tf.to_float(tf.equal(distances, 0.0))\n",
    "        distances = distances + mask * 1e-16\n",
    "\n",
    "        distances = tf.sqrt(distances)\n",
    "\n",
    "        # Correct the epsilon added: set the distances on the mask to be exactly 0.0\n",
    "        distances = distances * (1.0 - mask)\n",
    "\n",
    "    return distances\n",
    "\n",
    "\n",
    "\n",
    "def batch_all_triplet_loss(labels, embeddings, margin, squared=False):\n",
    "    \"\"\"Build the triplet loss over a batch of embeddings.\n",
    "\n",
    "    We generate all the valid triplets and average the loss over the positive ones.\n",
    "\n",
    "    Args:\n",
    "        labels: labels of the batch, of size (batch_size,)\n",
    "        embeddings: tensor of shape (batch_size, embed_dim)\n",
    "        margin: margin for triplet loss\n",
    "        squared: Boolean. If true, output is the pairwise squared euclidean distance matrix.\n",
    "                 If false, output is the pairwise euclidean distance matrix.\n",
    "\n",
    "    Returns:\n",
    "        triplet_loss: scalar tensor containing the triplet loss\n",
    "    \"\"\"\n",
    "    # Get the pairwise distance matrix\n",
    "    pairwise_dist = _pairwise_distances(embeddings, squared=squared)\n",
    "\n",
    "    anchor_positive_dist = tf.expand_dims(pairwise_dist, 2)\n",
    "    anchor_negative_dist = tf.expand_dims(pairwise_dist, 1)\n",
    "\n",
    "    # Compute a 3D tensor of size (batch_size, batch_size, batch_size)\n",
    "    # triplet_loss[i, j, k] will contain the triplet loss of anchor=i, positive=j, negative=k\n",
    "    # Uses broadcasting where the 1st argument has shape (batch_size, batch_size, 1)\n",
    "    # and the 2nd (batch_size, 1, batch_size)\n",
    "    triplet_loss = anchor_positive_dist - anchor_negative_dist + margin\n",
    "\n",
    "    # Put to zero the invalid triplets\n",
    "    # (where label(a) != label(p) or label(n) == label(a) or a == p)\n",
    "    mask = _get_triplet_mask(labels)\n",
    "    mask = tf.to_float(mask)\n",
    "    triplet_loss = tf.multiply(mask, triplet_loss)\n",
    "\n",
    "    # Remove negative losses (i.e. the easy triplets)\n",
    "    triplet_loss = tf.maximum(triplet_loss, 0.0)\n",
    "\n",
    "    # Count number of positive triplets (where triplet_loss > 0)\n",
    "    valid_triplets = tf.to_float(tf.greater(triplet_loss, 1e-16))\n",
    "    num_positive_triplets = tf.reduce_sum(valid_triplets)\n",
    "    num_valid_triplets = tf.reduce_sum(mask)\n",
    "    fraction_positive_triplets = num_positive_triplets / (num_valid_triplets + 1e-16)\n",
    "\n",
    "    # Get final mean triplet loss over the positive valid triplets\n",
    "    triplet_loss = tf.reduce_sum(triplet_loss) / (num_positive_triplets + 1e-16)\n",
    "\n",
    "    return triplet_loss, fraction_positive_triplets\n",
    "\n",
    "\n"
   ]
  },
  {
   "cell_type": "code",
   "execution_count": 3,
   "metadata": {},
   "outputs": [],
   "source": [
    "embeddings = tf.random_normal([7, 10])"
   ]
  },
  {
   "cell_type": "code",
   "execution_count": 4,
   "metadata": {},
   "outputs": [],
   "source": [
    "dot_product = tf.matmul(embeddings, tf.transpose(embeddings))\n",
    "square_norm = tf.diag_part(dot_product)\n",
    "distances = tf.expand_dims(square_norm, 0) - 2.0 * dot_product + tf.expand_dims(square_norm, 1)\n"
   ]
  },
  {
   "cell_type": "code",
   "execution_count": 5,
   "metadata": {},
   "outputs": [
    {
     "name": "stdout",
     "output_type": "stream",
     "text": [
      "(7, 10) (10,)\n",
      "tf.Tensor(\n",
      "[-1.0018165   0.33871594  0.9615877   2.672127   -0.8645353   0.7446462\n",
      "  0.2539306   1.199053   -0.89967215 -0.09572788], shape=(10,), dtype=float32)\n",
      "tf.Tensor(12.80598, shape=(), dtype=float32)\n",
      "----------\n",
      "tf.Tensor(2.3669274, shape=(), dtype=float32)\n",
      "----------\n",
      "[[12.805981    6.4123864   0.6581936   4.5202904  -1.3989016  -1.0348586\n",
      "   2.466448  ]\n",
      " [ 6.4123864  14.190258    2.3669274  -1.3510969  -0.37516654 -2.522407\n",
      "   7.6524663 ]\n",
      " [ 0.6581936   2.3669274   6.287444   -4.3116736  -1.537779   -2.247109\n",
      "  -0.79516757]\n",
      " [ 4.5202904  -1.3510969  -4.3116736  19.387615    2.36764     4.153995\n",
      "  -1.3458203 ]\n",
      " [-1.3989017  -0.37516657 -1.5377787   2.3676403   8.851185    2.3401558\n",
      "  -4.468193  ]\n",
      " [-1.0348585  -2.522407   -2.247109    4.1539955   2.3401558   5.2345133\n",
      "  -2.0617304 ]\n",
      " [ 2.4664478   7.6524663  -0.79516757 -1.3458201  -4.468193   -2.0617304\n",
      "  10.947656  ]]\n"
     ]
    }
   ],
   "source": [
    "print(embeddings.shape, embeddings[0].shape)\n",
    "print(embeddings[0])\n",
    "print(tf.tensordot(embeddings[0], embeddings[0], axes=1))\n",
    "print('-'*10)\n",
    "print(tf.tensordot(embeddings[1], embeddings[2], axes=1))\n",
    "print('-'*10)\n",
    "print(dot_product.numpy())"
   ]
  },
  {
   "cell_type": "code",
   "execution_count": 6,
   "metadata": {},
   "outputs": [
    {
     "data": {
      "text/plain": [
       "<tf.Tensor: id=16, shape=(7,), dtype=float32, numpy=\n",
       "array([12.805981 , 14.190258 ,  6.287444 , 19.387615 ,  8.851185 ,\n",
       "        5.2345133, 10.947656 ], dtype=float32)>"
      ]
     },
     "execution_count": 6,
     "metadata": {},
     "output_type": "execute_result"
    }
   ],
   "source": [
    "square_norm"
   ]
  },
  {
   "cell_type": "code",
   "execution_count": 7,
   "metadata": {},
   "outputs": [
    {
     "data": {
      "text/plain": [
       "<tf.Tensor: id=77, shape=(1, 7), dtype=float32, numpy=\n",
       "array([[12.805981 , 14.190258 ,  6.287444 , 19.387615 ,  8.851185 ,\n",
       "         5.2345133, 10.947656 ]], dtype=float32)>"
      ]
     },
     "execution_count": 7,
     "metadata": {},
     "output_type": "execute_result"
    }
   ],
   "source": [
    "tf.expand_dims(square_norm, 0)"
   ]
  },
  {
   "cell_type": "code",
   "execution_count": 8,
   "metadata": {},
   "outputs": [
    {
     "data": {
      "text/plain": [
       "<tf.Tensor: id=80, shape=(7, 1), dtype=float32, numpy=\n",
       "array([[12.805981 ],\n",
       "       [14.190258 ],\n",
       "       [ 6.287444 ],\n",
       "       [19.387615 ],\n",
       "       [ 8.851185 ],\n",
       "       [ 5.2345133],\n",
       "       [10.947656 ]], dtype=float32)>"
      ]
     },
     "execution_count": 8,
     "metadata": {},
     "output_type": "execute_result"
    }
   ],
   "source": [
    "tf.expand_dims(square_norm, 1)"
   ]
  },
  {
   "cell_type": "code",
   "execution_count": 9,
   "metadata": {},
   "outputs": [
    {
     "data": {
      "text/plain": [
       "<tf.Tensor: id=24, shape=(7, 7), dtype=float32, numpy=\n",
       "array([[ 0.      , 14.171466, 17.777039, 23.153015, 24.454967, 20.11021 ,\n",
       "        18.82074 ],\n",
       "       [14.171466,  0.      , 15.743847, 36.280067, 23.791775, 24.469585,\n",
       "         9.832981],\n",
       "       [17.777039, 15.743848,  0.      , 34.29841 , 18.214188, 16.016174,\n",
       "        18.825436],\n",
       "       [23.153015, 36.280067, 34.29841 ,  0.      , 23.503521, 16.314138,\n",
       "        33.026913],\n",
       "       [24.45497 , 23.791775, 18.214188, 23.50352 ,  0.      ,  9.405386,\n",
       "        28.735226],\n",
       "       [20.11021 , 24.469585, 16.016174, 16.314137,  9.405386,  0.      ,\n",
       "        20.30563 ],\n",
       "       [18.82074 ,  9.832981, 18.825436, 33.026913, 28.735226, 20.30563 ,\n",
       "         0.      ]], dtype=float32)>"
      ]
     },
     "execution_count": 9,
     "metadata": {},
     "output_type": "execute_result"
    }
   ],
   "source": [
    "distances"
   ]
  },
  {
   "cell_type": "code",
   "execution_count": 10,
   "metadata": {},
   "outputs": [
    {
     "data": {
      "text/plain": [
       "<tf.Tensor: id=109, shape=(7, 7), dtype=float32, numpy=\n",
       "array([[0.       , 3.7645009, 4.2162824, 4.811758 , 4.945196 , 4.4844403,\n",
       "        4.338288 ],\n",
       "       [3.7645009, 0.       , 3.9678516, 6.023294 , 4.8776813, 4.946674 ,\n",
       "        3.1357584],\n",
       "       [4.2162824, 3.9678519, 0.       , 5.856484 , 4.267808 , 4.002021 ,\n",
       "        4.338829 ],\n",
       "       [4.811758 , 6.023294 , 5.856484 , 0.       , 4.848043 , 4.0390763,\n",
       "        5.746904 ],\n",
       "       [4.945196 , 4.8776813, 4.267808 , 4.8480425, 0.       , 3.0668201,\n",
       "        5.3605247],\n",
       "       [4.4844403, 4.946674 , 4.002021 , 4.0390763, 3.0668201, 0.       ,\n",
       "        4.506177 ],\n",
       "       [4.338288 , 3.1357584, 4.338829 , 5.746904 , 5.3605247, 4.506177 ,\n",
       "        0.       ]], dtype=float32)>"
      ]
     },
     "execution_count": 10,
     "metadata": {},
     "output_type": "execute_result"
    }
   ],
   "source": [
    "pairwise_dist = _pairwise_distances(embeddings)\n",
    "pairwise_dist"
   ]
  },
  {
   "cell_type": "code",
   "execution_count": 11,
   "metadata": {},
   "outputs": [
    {
     "name": "stdout",
     "output_type": "stream",
     "text": [
      "(7, 7, 1) (7, 1, 7)\n"
     ]
    }
   ],
   "source": [
    "anchor_positive_dist = tf.expand_dims(pairwise_dist, 2)\n",
    "anchor_negative_dist = tf.expand_dims(pairwise_dist, 1)\n",
    "print(anchor_positive_dist.shape, anchor_negative_dist.shape)"
   ]
  },
  {
   "cell_type": "code",
   "execution_count": 12,
   "metadata": {},
   "outputs": [
    {
     "data": {
      "text/plain": [
       "<tf.Tensor: id=112, shape=(7, 7, 1), dtype=float32, numpy=\n",
       "array([[[0.       ],\n",
       "        [3.7645009],\n",
       "        [4.2162824],\n",
       "        [4.811758 ],\n",
       "        [4.945196 ],\n",
       "        [4.4844403],\n",
       "        [4.338288 ]],\n",
       "\n",
       "       [[3.7645009],\n",
       "        [0.       ],\n",
       "        [3.9678516],\n",
       "        [6.023294 ],\n",
       "        [4.8776813],\n",
       "        [4.946674 ],\n",
       "        [3.1357584]],\n",
       "\n",
       "       [[4.2162824],\n",
       "        [3.9678519],\n",
       "        [0.       ],\n",
       "        [5.856484 ],\n",
       "        [4.267808 ],\n",
       "        [4.002021 ],\n",
       "        [4.338829 ]],\n",
       "\n",
       "       [[4.811758 ],\n",
       "        [6.023294 ],\n",
       "        [5.856484 ],\n",
       "        [0.       ],\n",
       "        [4.848043 ],\n",
       "        [4.0390763],\n",
       "        [5.746904 ]],\n",
       "\n",
       "       [[4.945196 ],\n",
       "        [4.8776813],\n",
       "        [4.267808 ],\n",
       "        [4.8480425],\n",
       "        [0.       ],\n",
       "        [3.0668201],\n",
       "        [5.3605247]],\n",
       "\n",
       "       [[4.4844403],\n",
       "        [4.946674 ],\n",
       "        [4.002021 ],\n",
       "        [4.0390763],\n",
       "        [3.0668201],\n",
       "        [0.       ],\n",
       "        [4.506177 ]],\n",
       "\n",
       "       [[4.338288 ],\n",
       "        [3.1357584],\n",
       "        [4.338829 ],\n",
       "        [5.746904 ],\n",
       "        [5.3605247],\n",
       "        [4.506177 ],\n",
       "        [0.       ]]], dtype=float32)>"
      ]
     },
     "execution_count": 12,
     "metadata": {},
     "output_type": "execute_result"
    }
   ],
   "source": [
    "anchor_positive_dist"
   ]
  },
  {
   "cell_type": "code",
   "execution_count": 13,
   "metadata": {},
   "outputs": [
    {
     "data": {
      "text/plain": [
       "<tf.Tensor: id=114, shape=(7, 1, 7), dtype=float32, numpy=\n",
       "array([[[0.       , 3.7645009, 4.2162824, 4.811758 , 4.945196 ,\n",
       "         4.4844403, 4.338288 ]],\n",
       "\n",
       "       [[3.7645009, 0.       , 3.9678516, 6.023294 , 4.8776813,\n",
       "         4.946674 , 3.1357584]],\n",
       "\n",
       "       [[4.2162824, 3.9678519, 0.       , 5.856484 , 4.267808 ,\n",
       "         4.002021 , 4.338829 ]],\n",
       "\n",
       "       [[4.811758 , 6.023294 , 5.856484 , 0.       , 4.848043 ,\n",
       "         4.0390763, 5.746904 ]],\n",
       "\n",
       "       [[4.945196 , 4.8776813, 4.267808 , 4.8480425, 0.       ,\n",
       "         3.0668201, 5.3605247]],\n",
       "\n",
       "       [[4.4844403, 4.946674 , 4.002021 , 4.0390763, 3.0668201,\n",
       "         0.       , 4.506177 ]],\n",
       "\n",
       "       [[4.338288 , 3.1357584, 4.338829 , 5.746904 , 5.3605247,\n",
       "         4.506177 , 0.       ]]], dtype=float32)>"
      ]
     },
     "execution_count": 13,
     "metadata": {},
     "output_type": "execute_result"
    }
   ],
   "source": [
    "anchor_negative_dist"
   ]
  },
  {
   "cell_type": "code",
   "execution_count": 18,
   "metadata": {},
   "outputs": [],
   "source": [
    "embeddings = tf.random_normal([2, 10])\n",
    "\n",
    "pairwise_dist = _pairwise_distances(embeddings)"
   ]
  },
  {
   "cell_type": "code",
   "execution_count": 19,
   "metadata": {},
   "outputs": [
    {
     "data": {
      "text/plain": [
       "<tf.Tensor: id=181, shape=(2, 2), dtype=float32, numpy=\n",
       "array([[0.      , 5.063244],\n",
       "       [5.063244, 0.      ]], dtype=float32)>"
      ]
     },
     "execution_count": 19,
     "metadata": {},
     "output_type": "execute_result"
    }
   ],
   "source": [
    "pairwise_dist"
   ]
  },
  {
   "cell_type": "code",
   "execution_count": 20,
   "metadata": {},
   "outputs": [],
   "source": [
    "anchor_positive_dist = tf.expand_dims(pairwise_dist, 2)\n",
    "anchor_negative_dist = tf.expand_dims(pairwise_dist, 1)"
   ]
  },
  {
   "cell_type": "code",
   "execution_count": 23,
   "metadata": {},
   "outputs": [
    {
     "data": {
      "text/plain": [
       "<tf.Tensor: id=192, shape=(2, 2, 2), dtype=float32, numpy=\n",
       "array([[[ 0.1     , -4.963244],\n",
       "        [ 5.163244,  0.1     ]],\n",
       "\n",
       "       [[ 0.1     ,  5.163244],\n",
       "        [-4.963244,  0.1     ]]], dtype=float32)>"
      ]
     },
     "execution_count": 23,
     "metadata": {},
     "output_type": "execute_result"
    }
   ],
   "source": [
    "margin = .1\n",
    "triplet_loss = anchor_positive_dist - anchor_negative_dist + margin\n",
    "triplet_loss"
   ]
  },
  {
   "cell_type": "code",
   "execution_count": 24,
   "metadata": {},
   "outputs": [
    {
     "name": "stdout",
     "output_type": "stream",
     "text": [
      "(2, 2, 1) (2, 1, 2)\n"
     ]
    }
   ],
   "source": [
    "print(anchor_positive_dist.shape, anchor_negative_dist.shape)"
   ]
  },
  {
   "cell_type": "code",
   "execution_count": 31,
   "metadata": {},
   "outputs": [
    {
     "name": "stdout",
     "output_type": "stream",
     "text": [
      "tf.Tensor(\n",
      "[[[0.      ]\n",
      "  [5.063244]]\n",
      "\n",
      " [[5.063244]\n",
      "  [0.      ]]], shape=(2, 2, 1), dtype=float32)\n",
      "tf.Tensor(\n",
      "[[[0.       5.063244]]\n",
      "\n",
      " [[5.063244 0.      ]]], shape=(2, 1, 2), dtype=float32)\n",
      "----\n",
      "tf.Tensor(\n",
      "[[0.      ]\n",
      " [5.063244]], shape=(2, 1), dtype=float32)\n",
      "tf.Tensor([[0.       5.063244]], shape=(1, 2), dtype=float32)\n",
      "tf.Tensor(\n",
      "[[ 0.        5.063244]\n",
      " [ 5.063244 10.126488]], shape=(2, 2), dtype=float32)\n",
      "tf.Tensor(\n",
      "[[10.126488  5.063244]\n",
      " [ 5.063244  0.      ]], shape=(2, 2), dtype=float32)\n",
      "tf.Tensor(\n",
      "[[[ 0.        5.063244]\n",
      "  [ 5.063244 10.126488]]\n",
      "\n",
      " [[10.126488  5.063244]\n",
      "  [ 5.063244  0.      ]]], shape=(2, 2, 2), dtype=float32)\n"
     ]
    }
   ],
   "source": [
    "print(anchor_positive_dist)\n",
    "print(anchor_negative_dist)\n",
    "print('-'*4)\n",
    "print(anchor_positive_dist[0])\n",
    "print(anchor_negative_dist[0])\n",
    "print(anchor_positive_dist[0] + anchor_negative_dist[0])\n",
    "print(anchor_positive_dist[1] + anchor_negative_dist[1])\n",
    "print(anchor_positive_dist + anchor_negative_dist)"
   ]
  },
  {
   "cell_type": "code",
   "execution_count": 28,
   "metadata": {},
   "outputs": [
    {
     "data": {
      "text/plain": [
       "array([[ 0,  5],\n",
       "       [ 5, 10]])"
      ]
     },
     "execution_count": 28,
     "metadata": {},
     "output_type": "execute_result"
    }
   ],
   "source": [
    "np.array([[0],\n",
    "          [5]]) + np.array([[0, 5]])"
   ]
  },
  {
   "cell_type": "code",
   "execution_count": null,
   "metadata": {},
   "outputs": [],
   "source": []
  }
 ],
 "metadata": {
  "kernelspec": {
   "display_name": "Python 3",
   "language": "python",
   "name": "python3"
  },
  "language_info": {
   "codemirror_mode": {
    "name": "ipython",
    "version": 3
   },
   "file_extension": ".py",
   "mimetype": "text/x-python",
   "name": "python",
   "nbconvert_exporter": "python",
   "pygments_lexer": "ipython3",
   "version": "3.6.4"
  }
 },
 "nbformat": 4,
 "nbformat_minor": 2
}
