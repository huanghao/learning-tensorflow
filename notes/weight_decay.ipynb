{
 "cells": [
  {
   "cell_type": "markdown",
   "metadata": {},
   "source": [
    "# Weight decay\n",
    "\n",
    "这个玩意感觉和l2 regularization，岭回归ridge regression是一码子事。\n",
    "\n",
    "就是把参数平方和乘以一个惩罚系数再加到loss中。达到的效果就是参数会倾向于变小。\n",
    "\n",
    "## tf.nn.l2_loss\n",
    "\n",
    "$ output = \\frac{1}{2} \\sum t_i^2 $"
   ]
  },
  {
   "cell_type": "code",
   "execution_count": 3,
   "metadata": {},
   "outputs": [
    {
     "name": "stdout",
     "output_type": "stream",
     "text": [
      "8.47\n",
      "8.47\n"
     ]
    }
   ],
   "source": [
    "import tensorflow as tf\n",
    "\n",
    "tf.InteractiveSession()\n",
    "\n",
    "c = [1.1, 2.2, 3.3]\n",
    "a = tf.constant(c)\n",
    "print tf.nn.l2_loss(a).eval()\n",
    "\n",
    "print sum([i**2 for i in c]) / 2"
   ]
  },
  {
   "cell_type": "markdown",
   "metadata": {},
   "source": [
    "## tf.add_n"
   ]
  },
  {
   "cell_type": "code",
   "execution_count": 4,
   "metadata": {},
   "outputs": [
    {
     "data": {
      "text/plain": [
       "10"
      ]
     },
     "execution_count": 4,
     "metadata": {},
     "output_type": "execute_result"
    }
   ],
   "source": [
    "tf.add_n([1, 2, 3, 4]).eval()"
   ]
  },
  {
   "cell_type": "markdown",
   "metadata": {},
   "source": [
    "## Collections\n",
    "\n",
    "大概相当于tf里的一个全局变量，每个collection有个名字，每个名字能对应一个列表。有几个函数可以操作collection：\n",
    "\n",
    "- tf.add_to_collection(<name>, <value>)\n",
    "\n",
    "    把一个value添加到name指定的collection里去\n",
    "\n",
    "- tf.get_collection(<name>)\n",
    "\n",
    "    返回name指定的collection\n",
    "\n",
    "- tf.get_collection_ref(<name>)\n",
    "\n",
    "    跟上面那个有点类似，但是返回的是list的引用，所以可以直接原地修改\n",
    "    \n",
    "- tf.GraphKeys\n",
    "\n",
    "    一些标准的collections的名字。只是一些枚举值，例如：GLOBAL_VARIABLES, LOSSES等等\n",
    "\n",
    "https://www.tensorflow.org/api_guides/python/framework#Graph_collections\n"
   ]
  },
  {
   "cell_type": "code",
   "execution_count": 9,
   "metadata": {},
   "outputs": [
    {
     "data": {
      "text/plain": [
       "('losses', 'variables', 'local_variables')"
      ]
     },
     "execution_count": 9,
     "metadata": {},
     "output_type": "execute_result"
    }
   ],
   "source": [
    "tf.GraphKeys.LOSSES, tf.GraphKeys.GLOBAL_VARIABLES, tf.GraphKeys.LOCAL_VARIABLES"
   ]
  },
  {
   "cell_type": "code",
   "execution_count": 11,
   "metadata": {},
   "outputs": [
    {
     "name": "stdout",
     "output_type": "stream",
     "text": [
      "[]\n",
      "[1, 2]\n"
     ]
    }
   ],
   "source": [
    "print tf.get_collection('losses')\n",
    "\n",
    "tf.add_to_collection('losses', 1)\n",
    "tf.add_to_collection('losses', 2)\n",
    "\n",
    "print tf.get_collection('losses')"
   ]
  },
  {
   "cell_type": "markdown",
   "metadata": {},
   "source": [
    "## Example\n",
    "\n",
    "https://www.tensorflow.org/tutorials/deep_cnn\n",
    "\n",
    "这个官方例子的代码里，把total loss分成了两个部分，cross_entropy_mean和weight_decay，通过使用losses这个collection放到一起，然后调用tf.add_n求和。\n",
    "\n",
    "只是在使用tensorboard（tf.summary）画图的时候，来使用了另一个类tf.train.ExponentialMovingAverage"
   ]
  }
 ],
 "metadata": {
  "kernelspec": {
   "display_name": "Python 2",
   "language": "python",
   "name": "python2"
  },
  "language_info": {
   "codemirror_mode": {
    "name": "ipython",
    "version": 2
   },
   "file_extension": ".py",
   "mimetype": "text/x-python",
   "name": "python",
   "nbconvert_exporter": "python",
   "pygments_lexer": "ipython2",
   "version": "2.7.11"
  }
 },
 "nbformat": 4,
 "nbformat_minor": 2
}
