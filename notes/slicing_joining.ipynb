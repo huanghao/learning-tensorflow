{
 "cells": [
  {
   "cell_type": "code",
   "execution_count": 25,
   "metadata": {},
   "outputs": [
    {
     "name": "stdout",
     "output_type": "stream",
     "text": [
      " A= [[  1.   2.   3.   4.   5.   6.   7.   8.   9.]\n",
      " [  2.   4.   6.   8.  10.  12.  14.  16.  18.]\n",
      " [  3.   6.   9.  12.  15.  18.  21.  24.  27.]\n",
      " [  4.   8.  12.  16.  20.  24.  28.  32.  36.]\n",
      " [  5.  10.  15.  20.  25.  30.  35.  40.  45.]\n",
      " [  6.  12.  18.  24.  30.  36.  42.  48.  54.]\n",
      " [  7.  14.  21.  28.  35.  42.  49.  56.  63.]\n",
      " [  8.  16.  24.  32.  40.  48.  56.  64.  72.]\n",
      " [  9.  18.  27.  36.  45.  54.  63.  72.  81.]]\n",
      "Tensor(\"Slice_20:0\", shape=(9, 2), dtype=float64)\n",
      "B= [[  4.   5.]\n",
      " [  8.  10.]\n",
      " [ 12.  15.]\n",
      " [ 16.  20.]\n",
      " [ 20.  25.]\n",
      " [ 24.  30.]\n",
      " [ 28.  35.]\n",
      " [ 32.  40.]\n",
      " [ 36.  45.]]\n"
     ]
    }
   ],
   "source": [
    "import tensorflow as tf\n",
    "import numpy as np\n",
    "\n",
    "A = np.zeros([9, 9])\n",
    "for i in range(9):\n",
    "    for j in range(9):\n",
    "        A[i][j] = (i+1) * (j+1)\n",
    "        \n",
    "print 'A=', A\n",
    "\n",
    "B = tf.slice(A, [0, 3], [-1, 2])\n",
    "print B\n",
    "\n",
    "sess = tf.InteractiveSession()\n",
    "\n",
    "print 'B=', B.eval()"
   ]
  },
  {
   "cell_type": "code",
   "execution_count": 21,
   "metadata": {},
   "outputs": [
    {
     "name": "stdout",
     "output_type": "stream",
     "text": [
      "[ 0.27143122  0.48745281  0.20146523  0.03965075]\n",
      "[ 0.10249797  0.57607684  0.27447719  0.04694799]\n",
      "[[ 0.27143122  0.48745281  0.20146523  0.03965075  0.10249797  0.57607684\n",
      "   0.27447719  0.04694799]]\n"
     ]
    }
   ],
   "source": [
    "x = tf.nn.softmax(np.random.normal(0, 1, 4))\n",
    "y = tf.nn.softmax(np.random.normal(0, 1, 4))\n",
    "\n",
    "z = tf.reshape(tf.stack([x, y]), [-1, 8])\n",
    "\n",
    "a, b, c = sess.run([x, y, z])\n",
    "print a\n",
    "print b\n",
    "print c"
   ]
  },
  {
   "cell_type": "code",
   "execution_count": null,
   "metadata": {
    "collapsed": true
   },
   "outputs": [],
   "source": []
  }
 ],
 "metadata": {
  "kernelspec": {
   "display_name": "Python 2",
   "language": "python",
   "name": "python2"
  },
  "language_info": {
   "codemirror_mode": {
    "name": "ipython",
    "version": 2
   },
   "file_extension": ".py",
   "mimetype": "text/x-python",
   "name": "python",
   "nbconvert_exporter": "python",
   "pygments_lexer": "ipython2",
   "version": "2.7.11"
  }
 },
 "nbformat": 4,
 "nbformat_minor": 2
}
