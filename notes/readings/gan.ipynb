{
 "cells": [
  {
   "cell_type": "markdown",
   "metadata": {},
   "source": [
    "Generative Adversarial Nets\n",
    "----\n",
    "\n",
    "10 Jun 2014\n",
    "\n",
    "https://papers.nips.cc/paper/5423-generative-adversarial-nets\n",
    "\n",
    "https://github.com/goodfeli/adversarial"
   ]
  },
  {
   "cell_type": "markdown",
   "metadata": {},
   "source": [
    "Abstract\n",
    "\n",
    "We propose a new framework for estimating generative models via an adversarial process, in which we simultaneously train two models: a generative model G that captures the data distribution, and a discriminative model D that estimates the probability that a sample came from the training data rather than G. The training procedure for G is to maximize the probability of D making a mistake. This framework corresponds to a minimax two-player game. In the space of arbitrary functions G and D, a unique solution exists, with G recovering the training data distribution and D equal to 1/2 everywhere. In the case where G and D are defined by multilayer perceptrons, the entire system can be trained with backpropagation. There is no need for any Markov chains or unrolled approximate inference networks during either training or generation of samples. Experiments demonstrate the potential of the framework through qualitative and quantitative evaluation of the generated samples. \n",
    "\n",
    "我们提出一种新的框架，通过一种对抗过程来评估一个生成模型，在这个过程中同时训练两个模型：一个生成模型G用来捕捉数据的分布，和一个判别模型D用来评估一个样本来自于训练数据而不是G的概率。G训练的目标是最大化D犯错误的概率。这个框架对应于一种极大极小的双人游戏（博弈论：让对方得分最小从而自己得分最大）。在任意的函数空间中G和D，存在一个唯一的解，由G来生成训练数据的分布，然后D在所有情况下都等于$\\frac{1}{2}$。在G和D都定义为多层感知机的情况下，整个系统使用反向传递来训练。在训练和生成样本的过程中，不需要马尔科夫链或者展开的近似推理网络。通过对生成样本进行定性和定量的评估实验，显示了这种框架的潜力。"
   ]
  },
  {
   "cell_type": "markdown",
   "metadata": {},
   "source": [
    "1 Introduction\n",
    "\n",
    "The promise of deep learning is to discover rich, hierarchical models [2] that represent probability distributions over the kinds of data encountered in artificial intelligence applications, such as natural images, audio waveforms containing speech, and symbols in natural language corpora. So far, the most striking successes in deep learning have involved discriminative models, usually those that map a high-dimensional, rich sensory input to a class label [14, 22]. These striking successes have primarily been based on the backpropagation and dropout algorithms, using piecewise linear units [19, 9, 10] which have a particularly well-behaved gradient . Deep generative models have had less of an impact, due to the difficulty of approximating many intractable probabilistic computations that arise in maximum likelihood estimation and related strategies, and due to difficulty of leveraging the benefits of piecewise linear units in the generative context. We propose a new generative model estimation procedure that sidesteps these difficulties. 1 \n",
    "\n",
    "深度学习可以用来发现丰富的，有层次的模型，用来表达人工智能领域遇到的各种数据的概率分布，例如图像，包含音频，语料和自然语言资料库中的符号。到目前为止，深度学习中最令人振奋的成果都是判别模型，通常都是把一个高维的，丰富感官的输入映射到一个分类标签[14, 22]。这些成功主要都依赖于反向传递，dropout算法，以及在梯度行为上很好的分段线性函数[19,9,10]。深度生成模型以往的影响较小，因为在极大似然估计和相关策略中出现的很多棘手的概率逼近计算，和难以在生成上下文中利用分段线性单元的优点。我们提出一种新的生成模型的估计方法来避免这些困难。\n",
    "\n",
    "In the proposed adversarial nets framework, the generative model is pitted against an adversary: a discriminative model that learns to determine whether a sample is from the model distribution or the data distribution. The generative model can be thought of as analogous to a team of counterfeiters, trying to produce fake currency and use it without detection, while the discriminative model is analogous to the police, trying to detect the counterfeit currency. Competition in this game drives both teams to improve their methods until the counterfeits are indistiguishable from the genuine articles.\n",
    "\n",
    "在对抗网络的框架中，生成模型和对手是对抗的：一个判别模型学习如何区分一个样本来自于模型的分布还是数据分布。这个生成模型可以被类似认为是一个伪钞制造者，尝试在没有检查的情况下生产伪钞并使用，而判别模型类似于警察，尝试来发现这些伪钞。这种竞争关系促使两个团队改进他们的方案，直到伪钞和正品无法被区分。\n",
    "\n",
    "This framework can yield specific training algorithms for many kinds of model and optimization algorithm. In this article, we explore the special case when the generative model generates samples by passing random noise through a multilayer perceptron, and the discriminative model is also a multilayer perceptron. We refer to this special case as adversarial nets. In this case, we can train both models using only the highly successful backpropagation and dropout algorithms [17] and sample from the generative model using only forward propagation. No approximate inference or Markov chains are necessary.\n",
    "\n",
    "这个框架为多种模型和优化算法产生特定的训练算法。本文中，我们探索一种特殊的情况，通过将随机噪声输入多层感知机来生成样本，同时判别模型也是一个多层感知机。我们称这种情况较对抗网络。在这种情况下，我们仅使用非常成功的反向传递和dropout算法来同时训练两个模型，然后通过前向计算从生成模型中采样。不需要近似推理或者马尔科夫链。"
   ]
  },
  {
   "cell_type": "markdown",
   "metadata": {},
   "source": [
    "2 Related work\n",
    "\n",
    "An alternative to directed graphical models with latent variables are undirected graphical models with latent variables, such as restricted Boltzmann machines (RBMs) [27, 16], deep Boltzmann machines (DBMs) [26] and their numerous variants. The interactions within such models are represented as the product of unnormalized potential functions, normalized by a global summation/integration over all states of the random variables. This quantity (the partition function) and its gradient are intractable for all but the most trivial instances, although they can be estimated by Markov chain Monte Carlo (MCMC) methods. Mixing poses a significant problem for learning algorithms that rely on MCMC [3, 5].\n",
    "\n",
    "有潜在变量的有向图模型的替代方案是有潜在变量的无向图模型，例如RBM[27,16]，DBM和它们的变种。这些模型中的相互作用被表示为非规范化潜在函数的乘积，通过随机变量的所有状态上的全局求和/积分来归一化。尽管它们可以由马可夫链蒙特卡罗（MCMC）方法估计，但这个数量（分区函数）及其渐变对于除了最简单的实例之外的所有其他方面都是棘手的。混合对依靠MCMC的学习算法构成了一个重大问题[3,5]。\n",
    "\n",
    "Deep belief networks (DBNs) [16] are hybrid models containing a single undirected layer and several directed layers. While a fast approximate layer-wise training criterion exists, DBNs incur the computational difficulties associated with both undirected and directed models. \n",
    "\n",
    "深度信念网络（DBN）[16]是包含单个无向层和多个有向层的混合模型。虽然存在快速的近似层次训练标准，但DBN引入了有向和无向模型的计算难度。\n",
    "\n",
    "Alternative criteria that do not approximate or bound the log-likelihood have also been proposed, such as score matching [18] and noise-contrastive estimation (NCE) [13]. Both of these require the learned probability density to be analytically specified up to a normalization constant. Note that in many interesting generative models with several layers of latent variables (such as DBNs and DBMs), it is not even possible to derive a tractable unnormalized probability density. Some models such as denoising auto-encoders [30] and contractive autoencoders have learning rules very similar to score matching applied to RBMs. In NCE, as in this work, a discriminative training criterion is employed to fit a generative model. However, rather than fitting a separate discriminative model, the generative model itself is used to discriminate generated data from samples a fixed noise distribution. Because NCE uses a fixed noise distribution, learning slows dramatically after the model has learned even an approximately correct distribution over a small subset of the observed variables. \n",
    "\n",
    "\n",
    "Finally, some techniques do not involve defining a probability distribution explicitly, but rather train a generative machine to draw samples from the desired distribution. This approach has the advantage that such machines can be designed to be trained by back-propagation. Prominent recent work in this area includes the generative stochastic network (GSN) framework [5], which extends generalized denoising auto-encoders [4]: both can be seen as defining a parameterized Markov chain, i.e., one learns the parameters of a machine that performs one step of a generative Markov chain. Compared to GSNs, the adversarial nets framework does not require a Markov chain for sampling. Because adversarial nets do not require feedback loops during generation, they are better able to leverage piecewise linear units [19, 9, 10], which improve the performance of backpropagation but have problems with unbounded activation when used ina feedback loop. More recent examples of training a generative machine by back-propagating into it include recent work on auto-encoding variational Bayes [20] and stochastic backpropagation [24]. \n"
   ]
  },
  {
   "cell_type": "markdown",
   "metadata": {},
   "source": [
    "3 Adversarial nets\n",
    "\n",
    "The adversarial modeling framework is most straightforward to apply when the models are both multilayer perceptrons. To learn the generator’s distribution pg over data x, we define a prior on input noise variables pz(z), then represent a mapping to data space as G(z;θg), where G is a differentiable function represented by a multilayer perceptron with parameters θg . We also define a second multilayer perceptron D(x; θd) that outputs a single scalar. D(x) represents the probability that x came from the data rather than pg. We train D to maximize the probability of assigning the correct label to both training examples and samples from G. We simultaneously train G to minimize log(1 − D(G(z))):\n",
    "\n",
    "对抗模型框架在两个模型都是多层感知机的情况下是最方便直接应用的。为了学习生成器在数据x上的分布$p_g$，我们定义了一个在输入噪音上的变量$p_z(z)$，然后表达一个到数据空间的映射$G(z; \\theta_g)$，这里G是一个用多层感知机表示的可微函数，参数是$\\theta_g$。还定义第二个多层感知机$D(x; \\theta_d)$输出一个标量。D(x)表示x从数据里来而不是$p_g$来的概率。我们通过训练来最大化D来正确给训练样本和G生成样本打标签的概率。我们同时训练G来最小化 log(1 - D(G(z)))：\n",
    "\n",
    "In other words, D and G play the following two-player minimax game with value function V (G, D): \n",
    "。\n",
    "换句话说，D和G对应于函数V(G, D)的双人极小极大游戏：\n",
    "\n",
    "minmaxV(D,G) = Ex∼pdata(x)[logD(x)]+Ez∼pz(z)[log(1−D(G(z)))]. (1)\n",
    "\n",
    "$$\n",
    "\\min_G \\max_D V(D, G) = \\mathbb{E}_{x \\sim p_{data}(x)} [log D(x)] + \\mathbb{E}_{z \\sim p_{z}(z)} [log(1 - D(G(z)))].  (1)\n",
    "$$\n",
    "\n",
    "In the next section, we present a theoretical analysis of adversarial nets, essentially showing that the training criterion allows one to recover the data generating distribution as G and D are given enough capacity, i.e., in the non-parametric limit. See Figure 1 for a less formal, more pedagogical explanation of the approach. In practice, we must implement the game using an iterative, numerical approach. Optimizing D to completion in the inner loop of training is computationally prohibitive, and on finite datasets would result in overfitting. Instead, we alternate between k steps of optimizing D and one step of optimizing G. This results in D being maintained near its optimal solution, so long as G changes slowly enough. This strategy is analogous to the way that SML/PCD [31, 29] training maintains samples from a Markov chain from one learning step to the next in order to avoid burning in a Markov chain as part of the inner loop of learning. The procedure is formally presented in Algorithm 1. \n",
    "\n",
    "下一节，我们从理论上分析对抗网络，从本质上表明G和D在给定足够的能力下，也就是非参数限制，可以恢复数据生成的分布。见图1，非形式化，教育性质的解释。实际上，我们必须使用一种交互的，数值的方法来实现这个游戏。在训练的内层循环上优化D从计算上是不允许的，而且在有限的数据集上会导致过拟合。相反，我们在优化D的k个步骤和优化G的一个步骤之间进行交替。这导致D被保持在它的最优解附近，只要G足够慢的变化。这种策略类似于SML/PCD[31,29]中的方法，用来训练保持样本从马尔科夫链从一个训练步骤到下一个从而避免烧在一个马尔科夫链当做训练内部循环的一部分。算法1形式化的表达了这个过程。\n",
    "\n",
    "In practice, equation 1 may not provide sufficient gradient for G to learn well. Early in learning, when G is poor, D can reject samples with high confidence because they are clearly different from the training data. In this case, log(1 − D(G(z))) saturates. Rather than training G to minimize log(1 − D(G(z))) we can train G to maximize log D(G(z)). This objective function results in the same fixed point of the dynamics of G and D but provides much stronger gradients early in learning.\n",
    "\n",
    "实际上，等式1没有提供足够的梯度使G能够很好的学习。在训练的早期，当G很弱的时候，D可以以很高的信心来拒绝样本，因为他们和训练数据有明显的区别。在这种情况下，log(1 - D(G(z))) 饱和了。我们可以通过最大化 log D(G(z))来训练G，而不是最小化 log(1 - D(G(z)))。这个相反的函数对动态的G和D导致相同的结果，但在训练早期提供了更强的梯度。\n",
    "\n",
    "![gan_fig1_exp.png](gan_fig1_exp.png)\n",
    "\n",
    "Figure 1: Generative adversarial nets are trained by simultaneously updating the discriminative distribution (D, blue, dashed line) so that it discriminates between samples from the data generating distribution (black, dotted line) px from those of the generative distribution pg (G) (green, solid line). The lower horizontal line is the domain from which z is sampled, in this case uniformly. The horizontal line above is part of the domain of x. The upward arrows show how the mapping x = G(z) imposes the non-uniform distribution pg on transformed samples. G contracts in regions of high density and expands in regions of low density of pg . (a) Consider an adversarial pair near convergence: pg is similar to pdata and D is a partially accurate classifier. (b) In the inner loop of the algorithm D is trained to discriminate samples from data, converging to D∗(x) = pdata(x) . (c) After an update to G, gradient of D has guided G(z) to flow to regions that are more likely pdata (x)+pg (x) to be classified as data. (d) After several steps of training, if G and D have enough capacity, they will reach a point at which both cannot improve because pg = pdata. The discriminator is unable to differentiate between the two distributions, i.e. D(x) = 1 . 2 \n",
    "\n",
    "图1：生成对抗网络通过同时更新判别分布（D，蓝色虚线）从而使它可以把数据生成分布（黑色虚线）$p_x$ 和生成分布 $p_g (G)$（绿色实线）区分开来。下面的水平线是z被采样的域，这里是均匀的。上面的水平线是x的域的一部分。向上的箭头表示映射 x = G(z) 如何把样本变成非均匀分布 $p_g$。G在$p_g$ 的高密度区域收缩，在低密度区域扩张。\n",
    "- (a) 考虑一个在收敛区域的对抗组：$p_g$ 和 $p_{data}$ 相似，D是部分准确的分类器。\n",
    "- (b) 在D的算法的内层循环被训练用来区分样本数据，收敛到 $D^*(x) = \\frac{ P_{data}(x) }{ P_{data}(x) + P_g(x) } $。\n",
    "- (c) 在对G的一次更新后，D的梯度指导着 G(z) 随着更有可能被分类成数据的区域流动。\n",
    "- (d) 在训练了一些步骤以后，如果G和D都有了足够的能力，他们会达到一个点，那里它们都无法再改进了，因为$p_g = p_{data}$。判别器已经无法区分这两个分布，也就是 $D(x) = \\frac{1}{2}$。 \n",
    "\n",
    "![gan_algo1.png](gan_algo1.png)\n",
    "\n",
    "算法1：GAN SGD训练。k是一个超参数，表示对判别器的训练步骤。在我们的试验中，我们用的k=1，最廉价的选项。\n",
    "\n",
    "    for 每次训练迭代 do\n",
    "        for k个步骤 do\n",
    "            从随机分布 $p_g(z)$ 中采样m个样本形成批。$z^{(1)}, ..., z^{(m)}$\n",
    "            从数据分布 $p_{data}(x)$ 中采样m个样本形成批。$x^{(1)}, ..., x^{(m)}$\n",
    "            通过增加随机梯度来更新判别器：\n",
    "        end for\n",
    "        \n",
    "        从随机分布中采样m个样本，形成批z\n",
    "        通过减少随机梯度来更新生成器：\n",
    "    end for\n",
    "\n",
    "基于梯度的更新可以使用任何标准的基于梯度的学习规则。我们的实验中使用动量。\n",
    "        \n",
    "              "
   ]
  },
  {
   "cell_type": "markdown",
   "metadata": {},
   "source": [
    "4 Theoretical Results\n",
    "\n",
    "The generator G implicitly defines a probability distribution pg as the distribution of the samples G(z) obtained when z ∼ pz. Therefore, we would like Algorithm 1 to converge to a good estimator of pdata, if given enough capacity and training time. The results of this section are done in a non- parametric setting, e.g. we represent a model with infinite capacity by studying convergence in the space of probability density functions. \n",
    "\n",
    "生成器G隐式定义了一个概率分布$p_g$。因此，我们希望算法1在给定足够的容量和时间下，可以收敛到一个好的估计$p_{data}$。本节的结论基于非参设置，例如我们给定一个模型在无限容量下，研究收敛在概率密度函数的空间里。\n",
    "\n",
    "We will show in section 4.1 that this minimax game has a global optimum for pg = pdata. We will then show in section 4.2 that Algorithm 1 optimizes Eq 1, thus obtaining the desired result. ...   \n",
    "\n",
    "4.1节我们说明这个最小最大游戏有一个全局的最优解$p_g = p_{data}$。在4.2节我们将说明算法1通过优化公式1来达到这个结果。\n",
    "\n",
    "4.1 Global Optimality of pg = pdata\n",
    "\n",
    "We first consider the optimal discriminator D for any given generator G.\n",
    "\n",
    "首先，我们考虑在一个给定的生成器G，最优的判别器D：\n",
    "\n",
    "命题1：给定固定的G，最优的判别器D是：\n",
    "\n",
    "Proposition 1. For G fixed, the optimal discriminator D is\n",
    "\n",
    "$$\n",
    "D_G^*(x) = \\frac {p_{data}(x)} {p_{data}(x) + p_g(x)}            (2)\n",
    "$$\n",
    "\n",
    "Proof. The training criterion for the discriminator D, given any generator G, is to maximize the quantity V (G, D)\n",
    "\n",
    "$$\n",
    "V(G, D) = \\int_x p_{data}(x) log(D(x)) dx + \\int_z p_z(x) log(1 - D(g(z))) dz \\\\\n",
    " = \\int_x p_{data}(x) log(D(x)) + p_g(x) log(1 - D(x)) dx\n",
    "$$\n",
    "\n",
    "For any $(a, b) \\in \\mathbb{R^2} \\backslash \\{0, 0\\}$, the function $y \\rightarrow a log(y) + b log(1 - y)$ achieves its maximum in [0,1] at $\\frac {a} {a+b}$. The discriminator does not need to be defined outside of $Supp(p_{data}) \\cup Supp(p_g)$, concluding the proof.\n",
    "\n",
    "Note that the training objective for D can be interpreted as maximizing the log-likelihood for estimating the conditional probability P(Y = y|x), where Y indicates whether x comes from pdata (with y = 1) or from pg (with y = 0). The minimax game in Eq. 1 can now be reformulated as:\n"
   ]
  },
  {
   "cell_type": "markdown",
   "metadata": {},
   "source": [
    "5 Experiments\n",
    "\n",
    "We trained adversarial nets an a range of datasets including MNIST[23], the Toronto Face Database (TFD) [28], and CIFAR-10 [21]. The generator nets used a mixture of rectifier linear activations [19, 9] and sigmoid activations, while the discriminator net used maxout [10] activations. Dropout [17] was applied in training the discriminator net. While our theoretical framework permits the use of dropout and other noise at intermediate layers of the generator, we used noise as the input to only the bottommost layer of the generator network.\n",
    "\n",
    "我们在一系列的数据集上训练了对抗网络，包括MNIST，TFD和CIFAR-10。生成器使用relu和sigmoid的混合，判别器使用maxout激励。dropout都被使用了。虽然理论上我们的框架允许在生成器的中间层使用dropout和其他干扰，我们仅仅在生成网络的最底层使用噪音输入。\n",
    "\n",
    "We estimate probability of the test set data under pg by fitting a Gaussian Parzen window to the samples generated with G and reporting the log-likelihood under this distribution. The   parameter of the Gaussians was obtained by cross validation on the validation set. This procedure was intro- duced in Breuleux et al. [8] and used for various generative models for which the exact likelihood is not tractable [25, 3, 5]. Results are reported in Table 1. This method of estimating the likelihood has somewhat high variance and does not perform well in high dimensional spaces but it is the best method available to our knowledge. Advances in generative models that can sample but not estimate likelihood directly motivate further research into how to evaluate such models.\n",
    "\n",
    "In Figures 2 and 3 we show samples drawn from the generator net after training. While we make no claim that these samples are better than samples generated by existing methods, we believe that these samples are at least competitive with the better generative models in the literature and highlight the potential of the adversarial framework.\n",
    "\n"
   ]
  },
  {
   "cell_type": "markdown",
   "metadata": {},
   "source": [
    "6 Advantages and disadvantages\n",
    "\n",
    "This new framework comes with advantages and disadvantages relative to previous modeling frame- works. The disadvantages are primarily that there is no explicit representation of pg (x), and that D must be synchronized well with G during training (in particular, G must not be trained too much without updating D, in order to avoid “the Helvetica scenario” in which G collapses too many values of z to the same value of x to have enough diversity to model pdata), much as the negative chains of a Boltzmann machine must be kept up to date between learning steps. The advantages are that Markov chains are never needed, only backprop is used to obtain gradients, no inference is needed during learning, and a wide variety of functions can be incorporated into the model. Table 2 summarizes the comparison of generative adversarial nets with other generative modeling approaches.\n",
    "The aforementioned advantages are primarily computational. Adversarial models may also gain some statistical advantage from the generator network not being updated directly with data exam- ples, but only with gradients flowing through the discriminator. This means that components of the input are not copied directly into the generator’s parameters. Another advantage of adversarial net- works is that they can represent very sharp, even degenerate distributions, while methods based on Markov chains require that the distribution be somewhat blurry in order for the chains to be able to mix between modes."
   ]
  },
  {
   "cell_type": "markdown",
   "metadata": {},
   "source": [
    "7 Conclusions and future work\n",
    "This framework admits many straightforward extensions:\n",
    "1. A conditional generative model p(x | c) can be obtained by adding c as input to both G and D.\n",
    "2. Learned approximate inference can be performed by training an auxiliary network to predict z given x. This is similar to the inference net trained by the wake-sleep algorithm [15] but with the advantage that the inference net may be trained for a fixed generator net after the generator\n",
    "net has finished training.\n",
    "7\n",
    "3. One can approximately model all conditionals p(xS | x6S) where S is a subset of the indices of x by training a family of conditional models that share parameters. Essentially, one can use adversarial nets to implement a stochastic extension of the deterministic MP-DBM [11].\n",
    "4. Semi-supervised learning: features from the discriminator or inference net could improve perfor- mance of classifiers when limited labeled data is available.\n",
    "5. Efficiency improvements: training could be accelerated greatly by divising better methods for coordinating G and D or determining better distributions to sample z from during training.\n",
    "This paper has demonstrated the viability of the adversarial modeling framework, suggesting that these research directions could prove useful."
   ]
  }
 ],
 "metadata": {
  "kernelspec": {
   "display_name": "Python 2",
   "language": "python",
   "name": "python2"
  },
  "language_info": {
   "codemirror_mode": {
    "name": "ipython",
    "version": 3
   },
   "file_extension": ".py",
   "mimetype": "text/x-python",
   "name": "python",
   "nbconvert_exporter": "python",
   "pygments_lexer": "ipython3",
   "version": "3.6.0"
  }
 },
 "nbformat": 4,
 "nbformat_minor": 2
}
