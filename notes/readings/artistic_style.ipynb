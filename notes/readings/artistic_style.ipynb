{
 "cells": [
  {
   "cell_type": "markdown",
   "metadata": {},
   "source": [
    "A neural algorithm of artistic style\n",
    "====\n",
    "\n",
    "2015-9-2\n",
    "\n",
    "https://arxiv.org/abs/1508.06576v2\n"
   ]
  },
  {
   "cell_type": "markdown",
   "metadata": {},
   "source": [
    "When Convolutional Neural Networks are trained on object recognition, they develop a representation of the image that makes object information increasingly explicit along the processing hierarchy.8 Therefore, along the processing hierarchy of the network, the input image is transformed into representations that increasingly care about the actual content of the image compared to its detailed pixel values. We can directly visualise the information each layer contains about the input image by reconstructing the image only from the feature maps in that layer9 (Fig 1, content reconstructions, see Methods for details on how to reconstruct the image). \n",
    "\n",
    "Higher layers in the network capture the high-level content in terms of objects and their arrangement in the input image but do not constrain the exact pixel values of the reconstruction. (Fig 1, content reconstructions d,e). In contrast, reconstructions from the lower layers simply reproduce the exact pixel values of the original image (Fig 1, content reconstructions a,b,c). We therefore refer to the feature responses in higher layers of the network as the content representation.\n",
    "\n",
    "在物体识别上训练的convnet，发展出一种图片的表达方法，物体信息随着处理层次逐渐清晰。因此，随着网络层次变深，输入图片转变成的表达形式，逐渐关注再实际的内容上，而不是具体的像素值。我们可以通过从这些层的特征图重建图片来视觉化这种信息（图1：内容重建，见方法部分关于如何重建这些图片）。\n",
    "\n",
    "网络中的较高层通过对象和它们在输入图片中的布局，但不限制重建的精确像素值，来捕获高层次的内容。（图1，内容重建d,e）。相对的，低层次的图像重建简单的重复了原始图片的精确像素值（图1，内容重建a,b,c）。因此我们把高层的特征响应叫做内容表达。\n",
    "\n",
    "![style_fig1.png](style_fig1.png)\n",
    "\n",
    "Figure 1: Convolutional Neural Network (CNN). A given input image is represented as a set of filtered images at each processing stage in the CNN. While the number of different filters increases along the processing hierarchy, the size of the filtered images is reduced by some downsampling mechanism (e.g. max-pooling) leading to a decrease in the total number of units per layer of the network. \n",
    "\n",
    "Content Reconstructions. We can visualise the information at different processing stages in the CNN by reconstructing the input image from only knowing the network’s responses in a particular layer. We reconstruct the input image from from layers ‘conv1 1’ (a), ‘conv2 1’ (b), ‘conv3 1’ (c), ‘conv4 1’ (d) and ‘conv5 1’ (e) of the original VGG-Network. We find that reconstruction from lower layers is almost perfect (a,b,c). In higher layers of the network, detailed pixel information is lost while the high-level content of the image is preserved (d,e). Style Reconstructions. On top of the original CNN representations we built a new feature space that captures the style of an input image. The style representation computes correlations between the different features in different layers of the CNN. We reconstruct the style of the input image from style representations built on different subsets of CNN layers ( ‘conv1 1’ (a), ‘conv1 1’ and ‘conv2 1’ (b), ‘conv1 1’, ‘conv2 1’ and ‘conv3 1’ (c), ‘conv1 1’, ‘conv2 1’, ‘conv3 1’ and ‘conv4 1’ (d), ‘conv1 1’, ‘conv2 1’, ‘conv3 1’, ‘conv4 1’ and ‘conv5 1’ (e)). This creates images that match the style of a given image on an increasing scale while discarding information of the global arrangement of the scene.\n",
    "\n",
    "图1：CNN。一个给定的图片表示为一系列在网络每个处理阶段的过滤图片的集合。随着处理的层级加深，滤波器的数量变多，而过滤后的图片尺寸通过某种降采样而减小（例如最大池）导致总体上网络上每层的处理单元的数量是减少的。\n",
    "\n",
    "内容重建。"
   ]
  }
 ],
 "metadata": {
  "kernelspec": {
   "display_name": "Python 3",
   "language": "python",
   "name": "python3"
  },
  "language_info": {
   "codemirror_mode": {
    "name": "ipython",
    "version": 3
   },
   "file_extension": ".py",
   "mimetype": "text/x-python",
   "name": "python",
   "nbconvert_exporter": "python",
   "pygments_lexer": "ipython3",
   "version": "3.6.1"
  }
 },
 "nbformat": 4,
 "nbformat_minor": 2
}
