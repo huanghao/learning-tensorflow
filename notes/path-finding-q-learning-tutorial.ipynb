{
 "cells": [
  {
   "cell_type": "markdown",
   "metadata": {},
   "source": [
    "Q\n",
    "====\n",
    "\n",
    "http://mnemstudio.org/path-finding-q-learning-tutorial.htm\n",
    "\n",
    "https://gist.github.com/kastnerkyle/d127197dcfdd8fb888c2\n",
    "\n",
    "文章里有些小细节的数字有错误。给出的代码比文章描述的过程要稍微复杂。\n",
    "\n",
    "这个是房间的地图。有门的房间表示之间可以互通。\n",
    "\n",
    "![q_room.gif](q_room.gif)\n",
    "\n",
    "这个是状态-动作转移图。状态5是结束态。\n",
    "\n",
    "![q_model.gif](q_model.gif)\n",
    "\n",
    "这个是$Q*$最优Q函数。红线代表$\\pi$最优策略。\n",
    "\n",
    "![q_converge.gif](q_converge.gif)\n",
    "\n",
    "\n",
    "Q的更新策略只有一条\n",
    "\n",
    "    Q(state, action) = R(state, action) + Gamma * Max[Q(next state, all actions)]\n",
    "    \n",
    "$$\n",
    "Q(s, a) = R(s, a) + \\gamma * \\max{Q(s', a')}\n",
    "$$\n"
   ]
  },
  {
   "cell_type": "markdown",
   "metadata": {},
   "source": [
    "下面的R代表了从一个状态a到另一个状态b的reward。-1表示a到b不通。"
   ]
  },
  {
   "cell_type": "code",
   "execution_count": 1,
   "metadata": {
    "collapsed": true
   },
   "outputs": [],
   "source": [
    "import numpy as np\n",
    "\n",
    "n_states = 6\n",
    "n_actions = 6\n",
    "goal = set([5])\n",
    "gamma = .8\n",
    "\n",
    "R = np.array([\n",
    "    [-1, -1, -1, -1, 0, -1],\n",
    "    [-1, -1, -1,  0, -1, 100],\n",
    "    [-1, -1, -1,  0, -1, -1],\n",
    "    [-1,  0,  0, -1,  0, -1],\n",
    "    [ 0, -1, -1,  0, -1, 100],\n",
    "    [-1,  0, -1, -1,  0, 100]\n",
    "    ], dtype=np.float32)"
   ]
  },
  {
   "cell_type": "markdown",
   "metadata": {},
   "source": [
    "Q(s, a)行代表状态，列代表动作。这个问题里两个数都是6。Q被初始化为0。"
   ]
  },
  {
   "cell_type": "code",
   "execution_count": 2,
   "metadata": {},
   "outputs": [],
   "source": [
    "Q = np.zeros_like(R)\n",
    "\n",
    "def update(s, a, s1):\n",
    "    Q[s][a] = R[s][a] + gamma * max(Q[s1])"
   ]
  },
  {
   "cell_type": "markdown",
   "metadata": {},
   "source": [
    "按照文章中的例子，可以试一下，假设当前在状态s=1，动作为a=5，下一个状态s1=5。更新一次Q的结果如下。"
   ]
  },
  {
   "cell_type": "code",
   "execution_count": 3,
   "metadata": {},
   "outputs": [
    {
     "name": "stdout",
     "output_type": "stream",
     "text": [
      "[[   0.    0.    0.    0.    0.    0.]\n",
      " [   0.    0.    0.    0.    0.  100.]\n",
      " [   0.    0.    0.    0.    0.    0.]\n",
      " [   0.    0.    0.    0.    0.    0.]\n",
      " [   0.    0.    0.    0.    0.    0.]\n",
      " [   0.    0.    0.    0.    0.    0.]]\n"
     ]
    }
   ],
   "source": [
    "update(1, 5, 5)\n",
    "print(Q)"
   ]
  },
  {
   "cell_type": "markdown",
   "metadata": {},
   "source": [
    "再走一步，当前状态s=3，动作为a=1，下一个状态为s1=1。再更新一次的结果："
   ]
  },
  {
   "cell_type": "code",
   "execution_count": 4,
   "metadata": {},
   "outputs": [
    {
     "name": "stdout",
     "output_type": "stream",
     "text": [
      "[[   0.    0.    0.    0.    0.    0.]\n",
      " [   0.    0.    0.    0.    0.  100.]\n",
      " [   0.    0.    0.    0.    0.    0.]\n",
      " [   0.   80.    0.    0.    0.    0.]\n",
      " [   0.    0.    0.    0.    0.    0.]\n",
      " [   0.    0.    0.    0.    0.    0.]]\n"
     ]
    }
   ],
   "source": [
    "update(3, 1, 1)\n",
    "print(Q)"
   ]
  },
  {
   "cell_type": "markdown",
   "metadata": {},
   "source": [
    "使用这样简单的策略不断更新。在episode开始的时候随机选择一个状态。在每个状态随机选择一个动作进行更新。"
   ]
  },
  {
   "cell_type": "code",
   "execution_count": 5,
   "metadata": {},
   "outputs": [
    {
     "name": "stdout",
     "output_type": "stream",
     "text": [
      "[[   0.    0.    0.    0.  400.    0.]\n",
      " [   0.    0.    0.  320.    0.  500.]\n",
      " [   0.    0.    0.  320.    0.    0.]\n",
      " [   0.  400.  256.    0.  400.    0.]\n",
      " [ 320.    0.    0.  320.    0.  500.]\n",
      " [   0.  400.    0.    0.  400.  500.]]\n"
     ]
    }
   ],
   "source": [
    "for _ in range(2000):\n",
    "    s = np.random.randint(0, n_states)\n",
    "    while 1:\n",
    "        a = s1 = np.random.choice(np.flatnonzero(R[s] != -1))\n",
    "        update(s, a, s1)\n",
    "        if s1 in goal:\n",
    "            break\n",
    "        s = s1\n",
    "\n",
    "np.set_printoptions(precision=3)\n",
    "print(Q)"
   ]
  },
  {
   "cell_type": "code",
   "execution_count": 6,
   "metadata": {},
   "outputs": [
    {
     "name": "stdout",
     "output_type": "stream",
     "text": [
      "[[  0.    0.    0.    0.   80.    0. ]\n",
      " [  0.    0.    0.   64.    0.  100. ]\n",
      " [  0.    0.    0.   64.    0.    0. ]\n",
      " [  0.   80.   51.2   0.   80.    0. ]\n",
      " [ 64.    0.    0.   64.    0.  100. ]\n",
      " [  0.   80.    0.    0.   80.  100. ]]\n"
     ]
    }
   ],
   "source": [
    "print(Q/5)"
   ]
  },
  {
   "cell_type": "markdown",
   "metadata": {},
   "source": [
    "使用epsilon greedy。"
   ]
  },
  {
   "cell_type": "code",
   "execution_count": 7,
   "metadata": {},
   "outputs": [
    {
     "name": "stdout",
     "output_type": "stream",
     "text": [
      "[[   0.     0.     0.     0.    80.     0. ]\n",
      " [   0.     0.     0.    64.     0.   100. ]\n",
      " [   0.     0.     0.    64.     0.     0. ]\n",
      " [   0.    80.    51.2    0.    80.     0. ]\n",
      " [  64.     0.     0.    64.     0.   100. ]\n",
      " [   0.    80.     0.     0.    80.   100. ]]\n"
     ]
    }
   ],
   "source": [
    "epsilon = .05\n",
    "\n",
    "Q = np.zeros((n_states, n_actions))\n",
    "\n",
    "for _ in range(2000):\n",
    "    s = np.random.randint(0, n_states)\n",
    "    while 1:\n",
    "        if np.random.random() > epsilon and np.sum(Q[s]) > 0:\n",
    "            a = np.argmax(Q[s])\n",
    "        else:\n",
    "            a = np.random.choice(np.flatnonzero(R[s] != -1))\n",
    "        s1 = a\n",
    "        Q[s][a] = R[s][a] + gamma * max(Q[s1])\n",
    "        if s1 in goal:\n",
    "            break\n",
    "        s = s1\n",
    "\n",
    "print(Q/5)"
   ]
  },
  {
   "cell_type": "code",
   "execution_count": null,
   "metadata": {
    "collapsed": true
   },
   "outputs": [],
   "source": []
  }
 ],
 "metadata": {
  "kernelspec": {
   "display_name": "Python 3",
   "language": "python",
   "name": "python3"
  },
  "language_info": {
   "codemirror_mode": {
    "name": "ipython",
    "version": 3
   },
   "file_extension": ".py",
   "mimetype": "text/x-python",
   "name": "python",
   "nbconvert_exporter": "python",
   "pygments_lexer": "ipython3",
   "version": "3.6.1"
  }
 },
 "nbformat": 4,
 "nbformat_minor": 2
}
