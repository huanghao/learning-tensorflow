{
 "cells": [
  {
   "cell_type": "markdown",
   "metadata": {},
   "source": [
    "Very deep convolution networks for large-scale image recognition\n",
    "====\n",
    "\n",
    "10 Apr 2015\n",
    "\n",
    "https://arxiv.org/pdf/1409.1556.pdf\n"
   ]
  },
  {
   "cell_type": "markdown",
   "metadata": {},
   "source": [
    "2 CONVNET CONFIGURATIONS\n",
    "\n",
    "To measure the improvement brought by the increased ConvNet depth in a fair setting, all our ConvNet layer configurations are designed using the same principles, inspired by Ciresan et al. (2011); Krizhevsky et al. (2012). In this section, we first describe a generic layout of our ConvNet configurations (Sect. 2.1) and then detail the specific configurations used in the evaluation (Sect. 2.2). Our design choices are then discussed and compared to the prior art in Sect. 2.3.\n",
    "\n",
    "为了公平地测量通过增加深度带来的改进，我们所有的层都是用相同的设计原则。在这一章，我们首先简要介绍整个网络的布局（2.1)，然后再深入到具体的求值细节（2.2）。最后在2.3来讨论和比较我们的设计原则。\n",
    "\n",
    "2.1 ARCHITECTURE\n",
    "\n",
    "During training, the input to our ConvNets is a fixed-size 224 × 224 RGB image. The only pre-processing we do is subtracting the mean RGB value, computed on the training set, from each pixel. The image is passed through a stack of convolutional (conv.) layers, where we use filters with a very small receptive field: 3 × 3 (which is the smallest size to capture the notion of left/right, up/down, center). In one of the configurations we also utilise 1 × 1 convolution filters, which can be seen as a linear transformation of the input channels (followed by non-linearity). The convolution stride is fixed to 1 pixel; the spatial padding of conv. layer input is such that the spatial resolution is preserved after convolution, i.e. the padding is 1 pixel for 3 × 3 conv. layers. Spatial pooling is carried out by five max-pooling layers, which follow some of the conv. layers (not all the conv. layers are followed by max-pooling). Max-pooling is performed over a 2 × 2 pixel window, with stride 2.\n",
    "\n",
    "在整个训练中，我们使用的输入是固定的224 x 224大小的RGB图片。唯一的预处理操作只有每个图片都减去了整个训练集的均值。图片经过一组卷积层的处理。我们使用很小感知域的卷积核：3x3（这是最小的能捕捉左右，上下和中间各方向的大小了）。在其中的一个配置里，我们还使用了1x1的卷积核，这可以被看成是对输入通道的一个线性变换（后跟非线性）。卷积的步长固定为1个像素；并使用了空间的填充来保持空间大小在卷积操作以后不变，例如，对3x3卷积使用填充1。跟在卷积层组后面的是5个空间池化层。最大池使用2x2的像素框，并且步长为2.\n",
    "\n",
    "A stack of convolutional layers (which has a different depth in different architectures) is followed by three Fully-Connected (FC) layers: the first two have 4096 channels each, the third performs 1000-way ILSVRC classification and thus contains 1000 channels (one for each class). The final layer is the soft-max layer. The configuration of the fully connected layers is the same in all networks.\n",
    "\n",
    "在成组的卷积层（不同深度）后面是3个全连接层。前两个分别有4096个通道，第三个有1000个通道，用来对应ILSVRC的1000个分类，每个通道对一个分类。最后一层是一个softmax层。fc层的配置在所有网络中都是一样的。\n",
    "\n",
    "All hidden layers are equipped with the rectification (ReLU (Krizhevsky et al., 2012)) non-linearity. We note that none of our networks (except for one) contain Local Response Normalisation (LRN) normalisation (Krizhevsky et al., 2012): as will be shown in Sect. 4, such normalisation does not improve the performance on the ILSVRC dataset, but leads to increased memory consumption and computation time. Where applicable, the parameters for the LRN layer are those of (Krizhevsky et al., 2012).\n",
    "\n",
    "所有的隐藏层都使用relu作为非线性激励。所有的网络（除了一个）都没有使用LRN（局部响应归一化），在第四章中可以看到LRN在ILSVRC数据集上并不能提升性能，反而还增加了内存和计算时间的消耗。这句不知道怎么翻译。。。\n",
    "\n",
    "2.2 CONFIGURATIONS\n",
    "\n",
    "The ConvNet configurations, evaluated in this paper, are outlined in Table 1, one per column. In the following we will refer to the nets by their names (A–E). All configurations follow the generic design presented in Sect. 2.1, and differ only in the depth: from 11 weight layers in the network A (8 conv. and 3 FC layers) to 19 weight layers in the network E (16 conv. and 3 FC layers). The width of conv. layers (the number of channels) is rather small, starting from 64 in the first layer and then increasing by a factor of 2 after each max-pooling layer, until it reaches 512.\n",
    "\n",
    "本文使用的所有卷积网络的配置列在了表1中，每一列一个网络。后面我们会使用A-E来指代这些网络。所有的配置都遵守在2.1节提到的设计原则，但在深度上有区别：从网络A的11层（8个conv，3个fc）到网络E的19层（16个conv，3个卷积）。卷积层的宽度（通道数）是很小的，从第一组的64开始增长，每通过一个最大池层以后增大一倍，直到变成512.\n",
    "\n",
    "In Table 2 we report the number of parameters for each configuration. In spite of a large depth, the number of weights in our nets is not greater than the number of weights in a more shallow net with larger conv. layer widths and receptive fields (144M weights in (Sermanet et al., 2014)).\n",
    "\n",
    "表2列出了每种配置拥有的参数数量。尽管深度比较深，但是我们网络的参数数量比起一些有较大卷积宽度和感知域的浅网络还是要少的（144兆参数Sermanet et al., 2014）\n",
    "\n",
    "2.3 DISCUSSION\n",
    "\n",
    "Our ConvNet configurations are quite different from the ones used in the top-performing entries of the ILSVRC-2012 (Krizhevsky et al., 2012) and ILSVRC-2013 competitions (Zeiler & Fergus, 2013; Sermanet et al., 2014). Rather than using relatively large receptive fields in the first conv. layers (e.g. 11 × 11 with stride 4 in (Krizhevsky et al., 2012), or 7 × 7 with stride 2 in (Zeiler & Fergus, 2013; Sermanet et al., 2014)), we use very small 3 × 3 receptive fields throughout the whole net, which are convolved with the input at every pixel (with stride 1). It is easy to see that a stack of two 3 × 3 conv. layers (without spatial pooling in between) has an effective receptive field of 5 × 5; three such layers have a 7 × 7 effective receptive field. So what have we gained by using, for instance, a stack of three 3 × 3 conv. layers instead of a single 7 × 7 layer? First, we incorporate three non-linear rectification layers instead of a single one, which makes the decision function more discriminative. Second, we decrease the number of parameters: assuming that both the input and the output of a three-layer 3 × 3 convolution stack has C channels, the stack is parametrised by 3  32C2  = 27C2 weights; at the same time, a single 7 × 7 conv. layer would require 72C2 = 49C2 parameters, i.e. 81% more. This can be seen as imposing a regularisation on the 7 × 7 conv. filters, forcing them to have a decomposition through the 3 × 3 filters (with non-linearity injected in between).\n",
    "\n",
    "我们的网络配置和那些在ILSVRC-2012，2013中表现出色的网络非常不同。他们在第一个卷积层使用较大的感知域（11x11-s4，11x11-s2），而我们在整个网络都使用很小的3x3的感知域，并且对每个像素做卷积（步长为1）。很容易看到，把两个3x3的卷积层叠起来（中间不做空间上的池化）相当于5x5的感知域；而3个3x3相当于7x7的感知域。那么我们用连续的3个3x3卷积而不是一个7x7的卷积层所得到的好处有什么呢？第一，我们得到了3个非线性的relu层而不是1个，这使得决策函数有更大的分辨能力。第二，降低了参数的数量：假设3个3x3卷积组的输入和输出都有C个通道，那一共有$3(3^2C^2) = 27C^2$个参数；而7x7的卷积层需要$7^2C^2 = 49C^2$个参数，多了81%。这可以看做对7x7的卷积滤波器增加了正规化，迫使它分解成3x3的滤波器（附带插入中间的非线性层）。"
   ]
  },
  {
   "cell_type": "markdown",
   "metadata": {},
   "source": [
    "Table 1: ConvNet configurations (shown in columns). The depth of the configurations increases from the left (A) to the right (E), as more layers are added (the added layers are shown in bold). The convolutional layer parameters are denoted as “conv⟨receptive field size⟩-⟨number of channels⟩”. The ReLU activation function is not shown for brevity.\n",
    "\n",
    "表1：卷积网络配置（以列显示）。从左（A）到右（E）深度逐渐增加，更多层被加入（新增的层显示为粗体）。conv层的参数表示为“conv<感知域大小>-通道数”。为简单起见，relu没有显示。\n",
    "\n",
    "![vgg-convnet-configuration](vgg-convnet-configuration.png)\n",
    "\n",
    "Table 2: Number of parameters (in millions).\n",
    "\n",
    "表2：参数数量（单位百万）\n",
    "\n",
    "![vgg-number-of-parameters](vgg-number-of-parameters.png)"
   ]
  },
  {
   "cell_type": "markdown",
   "metadata": {},
   "source": [
    "The incorporation of 1 × 1 conv. layers (configuration C, Table 1) is a way to increase the non-linearity of the decision function without affecting the receptive fields of the conv. layers. Even though in our case the 1 × 1 convolution is essentially a linear projection onto the space of the same dimensionality (the number of input and output channels is the same), an additional non-linearity is introduced by the rectification function. It should be noted that 1 × 1 conv. layers have recently been utilised in the “Network in Network” architecture of Lin et al. (2014).\n",
    "\n",
    "在网络C中使用了1x1卷积层，这是一种在不改变感知域的情况下增加非线性的方法。尽管在我们这种情况下1x1卷积本质上只是一种在相同维度空间的线性变换（输入和输出的通道数一样），但是多增加了一个relu。需要指出的是，1x1卷积最近被“Network in Network”这种结构所使用。\n",
    "\n",
    "Small-size convolution filters have been previously used by Ciresan et al. (2011), but their nets are significantly less deep than ours, and they did not evaluate on the large-scale ILSVRC dataset. Goodfellow et al. (2014) applied deep ConvNets (11 weight layers) to the task of street number recognition, and showed that the increased depth led to better performance. GoogLeNet (Szegedy et al., 2014), a top-performing entry of the ILSVRC-2014 classification task, was developed independently of our work, but is similar in that it is based on very deep ConvNets (22 weight layers) and small convolution filters (apart from 3 × 3, they also use 1 × 1 and 5 × 5 convolutions). Their network topology is, however, more complex than ours, and the spatial resolution of the feature maps is reduced more aggressively in the first layers to decrease the amount of computation. As will be shown in Sect. 4.5, our model is outperforming that of Szegedy et al. (2014) in terms of the single-network classification accuracy.\n",
    "\n",
    "小尺寸的卷积核被Ciresan2011使用过，但是他们的网络比我们的要浅多了，而且他们也没有在ILSVRC这样大的数据集上评估过。Goodfellow2014使用过11层的卷积网络做过街景数字识别，并且表明了增加网络可以提高性能。GoogLeNet2014，ILSVRC-2014年分类任务的优胜者，独立研究也得到类似的结论，使用深度网络（22层）和小卷积（除了3x3，他们还使用了1x1和5x5的卷积）。但是他们的网络结构比我们的要复杂很多，而且在第一层很激进低降低了特征图的空间分辨率来减少计算。在4.5节中降维看到，我们的模型在单一网络的分类准确率上胜过Szegedy2014。"
   ]
  },
  {
   "cell_type": "markdown",
   "metadata": {},
   "source": [
    "3 CLASSIFICATION FRAMEWORK\n",
    "\n",
    "In the previous section we presented the details of our network configurations. In this section, we describe the details of classification ConvNet training and evaluation.\n",
    "\n",
    "前一章我们详细介绍了网络的配置。这章，我们要详细解释卷积分类的训练和求值。\n",
    "\n",
    "3.1 TRAINING\n",
    "\n",
    "The ConvNet training procedure generally follows Krizhevsky et al. (2012) (except for sampling the input crops from multi-scale training images, as explained later). Namely, the training is carried out by optimising the multinomial logistic regression objective using mini-batch gradient descent (based on back-propagation (LeCun et al., 1989)) with momentum. The batch size was set to 256, momentum to 0.9. The training was regularised by weight decay (the L2 penalty multiplier set to 5 · 10−4) and dropout regularisation for the first two fully-connected layers (dropout ratio set to 0.5). The learning rate was initially set to 10−2, and then decreased by a factor of 10 when the validation set accuracy stopped improving. In total, the learning rate was decreased 3 times, and the learning was stopped after 370K iterations (74 epochs). We conjecture that in spite of the larger number of parameters and the greater depth of our nets compared to (Krizhevsky et al., 2012), the nets required less epochs to converge due to (a) implicit regularisation imposed by greater depth and smaller conv. filter sizes; (b) pre-initialisation of certain layers.\n",
    "\n",
    "卷积网络的训练依据Krizhevsky2012（除了多尺度采样，后面会介绍）。即训练过程就是通过批梯度下降去最小化多项式逻辑回归的目标函数。（基于动量的反向传递LeCun1989）。批大小为256，动量为0.9。训练使用了权重衰减正则化（$L_2$乘法系数为$5\\times10^{-4}$）。在前两个fc层后使用了dropout层（丢弃比率为0.5）。学习率初始化为$10^{-2}$，当在验证集上的正确率不再升高时，以10倍的速度减小。一共学习率减少了3次，最后经过了370K次迭代（74个周期）。虽然相比于Krizhevskey2012我们有更多的参数和更深的结构，但是我们需要更少的收敛周期。我们推测的原因有：（a）通过更深和更小的卷积核隐含的正则化。（b）某些层的预初始化。\n",
    "\n",
    "The initialisation of the network weights is important, since bad initialisation can stall learning due to the instability of gradient in deep nets. To circumvent this problem, we began with training the configuration A (Table 1), shallow enough to be trained with random initialisation. Then, when training deeper architectures, we initialised the first four convolutional layers and the last three fully-connected layers with the layers of net A (the intermediate layers were initialised randomly). We did not decrease the learning rate for the pre-initialised layers, allowing them to change during learning. For random initialisation (where applicable), we sampled the weights from a normal distribution with the zero mean and 10−2 variance. The biases were initialised with zero. It is worth noting that after the paper submission we found that it is possible to initialise the weights without pre-training by using the random initialisation procedure of Glorot & Bengio (2010).\n",
    "\n",
    "权重的初始化很重要，因为不好的初始化会导致梯度不稳定而让学习停滞。为了解决这个问题，我们从网络A开始训练，它浅到可以使用随机初始化。然后用网络A的前4个conv层和后3个fc层的参数，来训练更深的网络，中间的层随机初始化。对预初始化的层没有减低学习率，让他们在继续训练。对于随机初始化，我们使用均值为0，方差为$10^{-2}$的正态分布。偏移初始化为0。值得一提的是，在论文提交之后，我们发现通过使用Glorot&Bengio2010的随机初始化方法，而不用预训练，也是可能的。\n",
    "\n",
    "To obtain the fixed-size 224×224 ConvNet input images, they were randomly cropped from rescaled training images (one crop per image per SGD iteration). To further augment the training set, the crops underwent random horizontal flipping and random RGB colour shift (Krizhevsky et al., 2012). Training image rescaling is explained below.\n",
    "\n",
    "为了得到224x224的输入图片，他们从拉伸了尺度的训练图片中随机截取出来（每一次SGD迭代在每个图片上随机截取一次）。为了增大训练集，截取后的图片又随机进行了水平翻转和随机RGB颜色的转换。图片尺度的变换如下。\n",
    "\n",
    "Training image size. Let S be the smallest side of an isotropically-rescaled training image, from which the ConvNet input is cropped (we also refer to S as the training scale). While the crop size is fixed to 224 × 224, in principle S can take on any value not less than 224: for S = 224 the crop will capture whole-image statistics, completely spanning the smallest side of a training image; for S ≫ 224 the crop will correspond to a small part of the image, containing a small object or an object part.\n",
    "\n",
    "训练图片大小。\n",
    "\n",
    "We consider two approaches for setting the training scale S. The first is to fix S, which corresponds to single-scale training (note that image content within the sampled crops can still represent multi- scale image statistics). In our experiments, we evaluated models trained at two fixed scales: S = 256 (which has been widely used in the prior art (Krizhevsky et al., 2012; Zeiler & Fergus, 2013; Sermanet et al., 2014)) and S = 384. Given a ConvNet configuration, we first trained the network using S = 256. To speed-up training of the S = 384 network, it was initialised with the weights pre-trained with S = 256, and we used a smaller initial learning rate of 10−3.\n",
    "\n",
    "The second approach to setting S is multi-scale training, where each training image is individually rescaled by randomly sampling S from a certain range [Smin,Smax] (we used Smin = 256 and Smax = 512). Since objects in images can be of different size, it is beneficial to take this into account during training. This can also be seen as training set augmentation by scale jittering, where a single model is trained to recognise objects over a wide range of scales. For speed reasons, we trained multi-scale models by fine-tuning all layers of a single-scale model with the same configuration, pre-trained with fixed S = 384.\n",
    "\n",
    "3.2 TESTING\n",
    "\n",
    "At test time, given a trained ConvNet and an input image, it is classified in the following way. First, it is isotropically rescaled to a pre-defined smallest image side, denoted as Q (we also refer to it as the test scale). We note that Q is not necessarily equal to the training scale S (as we will show in Sect. 4, using several values of Q for each S leads to improved performance). Then, the network is applied densely over the rescaled test image in a way similar to (Sermanet et al., 2014). Namely, the fully-connected layers are first converted to convolutional layers (the first FC layer to a 7 × 7 conv. layer, the last two FC layers to 1 × 1 conv. layers). The resulting fully-convolutional net is then applied to the whole (uncropped) image. The result is a class score map with the number of channels equal to the number of classes, and a variable spatial resolution, dependent on the input image size. Finally, to obtain a fixed-size vector of class scores for the image, the class score map is spatially averaged (sum-pooled). We also augment the test set by horizontal flipping of the images; the soft-max class posteriors of the original and flipped images are averaged to obtain the final scores for the image.\n",
    "\n",
    "Since the fully-convolutional network is applied over the whole image, there is no need to sample multiple crops at test time (Krizhevsky et al., 2012), which is less efficient as it requires network re-computation for each crop. At the same time, using a large set of crops, as done by Szegedy et al. (2014), can lead to improved accuracy, as it results in a finer sampling of the input image compared to the fully-convolutional net. Also, multi-crop evaluation is complementary to dense evaluation due to different convolution boundary conditions: when applying a ConvNet to a crop, the convolved feature maps are padded with zeros, while in the case of dense evaluation the padding for the same crop naturally comes from the neighbouring parts of an image (due to both the convolutions and spatial pooling), which substantially increases the overall network receptive field, so more context is captured. While we believe that in practice the increased computation time of multiple crops does not justify the potential gains in accuracy, for reference we also evaluate our networks using 50 crops per scale (5 × 5 regular grid with 2 flips), for a total of 150 crops over 3 scales, which is comparable to 144 crops over 4 scales used by Szegedy et al. (2014).\n",
    "\n",
    "3.3 IMPLEMENTATION DETAILS\n",
    "\n",
    "Our implementation is derived from the publicly available C++ Caffe toolbox (Jia, 2013) (branched out in December 2013), but contains a number of significant modifications, allowing us to perform training and evaluation on multiple GPUs installed in a single system, as well as train and evaluate on full-size (uncropped) images at multiple scales (as described above). Multi-GPU training exploits data parallelism, and is carried out by splitting each batch of training images into several GPU batches, processed in parallel on each GPU. After the GPU batch gradients are computed, they are averaged to obtain the gradient of the full batch. Gradient computation is synchronous across the GPUs, so the result is exactly the same as when training on a single GPU.\n",
    "\n",
    "While more sophisticated methods of speeding up ConvNet training have been recently proposed (Krizhevsky, 2014), which employ model and data parallelism for different layers of the net, we have found that our conceptually much simpler scheme already provides a speedup of 3.75 times on an off-the-shelf 4-GPU system, as compared to using a single GPU. On a system equipped with four NVIDIA Titan Black GPUs, training a single net took 2–3 weeks depending on the architecture.\n"
   ]
  },
  {
   "cell_type": "markdown",
   "metadata": {},
   "source": []
  }
 ],
 "metadata": {
  "kernelspec": {
   "display_name": "Python 2",
   "language": "python",
   "name": "python2"
  },
  "language_info": {
   "codemirror_mode": {
    "name": "ipython",
    "version": 3
   },
   "file_extension": ".py",
   "mimetype": "text/x-python",
   "name": "python",
   "nbconvert_exporter": "python",
   "pygments_lexer": "ipython3",
   "version": "3.6.0"
  }
 },
 "nbformat": 4,
 "nbformat_minor": 2
}
